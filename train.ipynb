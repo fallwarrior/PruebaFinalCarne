{
 "cells": [
  {
   "cell_type": "code",
   "execution_count": 1,
   "id": "bc9f7bdf",
   "metadata": {},
   "outputs": [
    {
     "name": "stdout",
     "output_type": "stream",
     "text": [
      "Requirement already satisfied: tensorflow in c:\\users\\jekad\\anaconda3\\lib\\site-packages (2.13.0)\n",
      "Requirement already satisfied: tensorflow-intel==2.13.0 in c:\\users\\jekad\\anaconda3\\lib\\site-packages (from tensorflow) (2.13.0)\n",
      "Requirement already satisfied: absl-py>=1.0.0 in c:\\users\\jekad\\anaconda3\\lib\\site-packages (from tensorflow-intel==2.13.0->tensorflow) (1.4.0)\n",
      "Requirement already satisfied: astunparse>=1.6.0 in c:\\users\\jekad\\anaconda3\\lib\\site-packages (from tensorflow-intel==2.13.0->tensorflow) (1.6.3)\n",
      "Requirement already satisfied: flatbuffers>=23.1.21 in c:\\users\\jekad\\anaconda3\\lib\\site-packages (from tensorflow-intel==2.13.0->tensorflow) (23.5.26)\n",
      "Requirement already satisfied: gast<=0.4.0,>=0.2.1 in c:\\users\\jekad\\anaconda3\\lib\\site-packages (from tensorflow-intel==2.13.0->tensorflow) (0.4.0)\n",
      "Requirement already satisfied: google-pasta>=0.1.1 in c:\\users\\jekad\\anaconda3\\lib\\site-packages (from tensorflow-intel==2.13.0->tensorflow) (0.2.0)\n",
      "Requirement already satisfied: h5py>=2.9.0 in c:\\users\\jekad\\anaconda3\\lib\\site-packages (from tensorflow-intel==2.13.0->tensorflow) (3.7.0)\n",
      "Requirement already satisfied: libclang>=13.0.0 in c:\\users\\jekad\\anaconda3\\lib\\site-packages (from tensorflow-intel==2.13.0->tensorflow) (16.0.6)\n",
      "Requirement already satisfied: numpy<=1.24.3,>=1.22 in c:\\users\\jekad\\anaconda3\\lib\\site-packages (from tensorflow-intel==2.13.0->tensorflow) (1.24.3)\n",
      "Requirement already satisfied: opt-einsum>=2.3.2 in c:\\users\\jekad\\anaconda3\\lib\\site-packages (from tensorflow-intel==2.13.0->tensorflow) (3.3.0)\n",
      "Requirement already satisfied: packaging in c:\\users\\jekad\\anaconda3\\lib\\site-packages (from tensorflow-intel==2.13.0->tensorflow) (23.0)\n",
      "Requirement already satisfied: protobuf!=4.21.0,!=4.21.1,!=4.21.2,!=4.21.3,!=4.21.4,!=4.21.5,<5.0.0dev,>=3.20.3 in c:\\users\\jekad\\anaconda3\\lib\\site-packages (from tensorflow-intel==2.13.0->tensorflow) (4.24.3)\n",
      "Requirement already satisfied: setuptools in c:\\users\\jekad\\anaconda3\\lib\\site-packages (from tensorflow-intel==2.13.0->tensorflow) (68.0.0)\n",
      "Requirement already satisfied: six>=1.12.0 in c:\\users\\jekad\\anaconda3\\lib\\site-packages (from tensorflow-intel==2.13.0->tensorflow) (1.16.0)\n",
      "Requirement already satisfied: termcolor>=1.1.0 in c:\\users\\jekad\\anaconda3\\lib\\site-packages (from tensorflow-intel==2.13.0->tensorflow) (2.3.0)\n",
      "Requirement already satisfied: typing-extensions<4.6.0,>=3.6.6 in c:\\users\\jekad\\anaconda3\\lib\\site-packages (from tensorflow-intel==2.13.0->tensorflow) (4.5.0)\n",
      "Requirement already satisfied: wrapt>=1.11.0 in c:\\users\\jekad\\anaconda3\\lib\\site-packages (from tensorflow-intel==2.13.0->tensorflow) (1.14.1)\n",
      "Requirement already satisfied: grpcio<2.0,>=1.24.3 in c:\\users\\jekad\\anaconda3\\lib\\site-packages (from tensorflow-intel==2.13.0->tensorflow) (1.58.0)\n",
      "Requirement already satisfied: tensorboard<2.14,>=2.13 in c:\\users\\jekad\\anaconda3\\lib\\site-packages (from tensorflow-intel==2.13.0->tensorflow) (2.13.0)\n",
      "Requirement already satisfied: tensorflow-estimator<2.14,>=2.13.0 in c:\\users\\jekad\\anaconda3\\lib\\site-packages (from tensorflow-intel==2.13.0->tensorflow) (2.13.0)\n",
      "Requirement already satisfied: keras<2.14,>=2.13.1 in c:\\users\\jekad\\anaconda3\\lib\\site-packages (from tensorflow-intel==2.13.0->tensorflow) (2.13.1)\n",
      "Requirement already satisfied: tensorflow-io-gcs-filesystem>=0.23.1 in c:\\users\\jekad\\anaconda3\\lib\\site-packages (from tensorflow-intel==2.13.0->tensorflow) (0.31.0)\n",
      "Requirement already satisfied: wheel<1.0,>=0.23.0 in c:\\users\\jekad\\anaconda3\\lib\\site-packages (from astunparse>=1.6.0->tensorflow-intel==2.13.0->tensorflow) (0.38.4)\n",
      "Requirement already satisfied: google-auth<3,>=1.6.3 in c:\\users\\jekad\\anaconda3\\lib\\site-packages (from tensorboard<2.14,>=2.13->tensorflow-intel==2.13.0->tensorflow) (2.22.0)\n",
      "Requirement already satisfied: google-auth-oauthlib<1.1,>=0.5 in c:\\users\\jekad\\anaconda3\\lib\\site-packages (from tensorboard<2.14,>=2.13->tensorflow-intel==2.13.0->tensorflow) (1.0.0)\n",
      "Requirement already satisfied: markdown>=2.6.8 in c:\\users\\jekad\\anaconda3\\lib\\site-packages (from tensorboard<2.14,>=2.13->tensorflow-intel==2.13.0->tensorflow) (3.4.1)\n",
      "Requirement already satisfied: requests<3,>=2.21.0 in c:\\users\\jekad\\anaconda3\\lib\\site-packages (from tensorboard<2.14,>=2.13->tensorflow-intel==2.13.0->tensorflow) (2.31.0)\n",
      "Requirement already satisfied: tensorboard-data-server<0.8.0,>=0.7.0 in c:\\users\\jekad\\anaconda3\\lib\\site-packages (from tensorboard<2.14,>=2.13->tensorflow-intel==2.13.0->tensorflow) (0.7.1)\n",
      "Requirement already satisfied: werkzeug>=1.0.1 in c:\\users\\jekad\\anaconda3\\lib\\site-packages (from tensorboard<2.14,>=2.13->tensorflow-intel==2.13.0->tensorflow) (2.2.3)\n",
      "Requirement already satisfied: cachetools<6.0,>=2.0.0 in c:\\users\\jekad\\anaconda3\\lib\\site-packages (from google-auth<3,>=1.6.3->tensorboard<2.14,>=2.13->tensorflow-intel==2.13.0->tensorflow) (5.3.1)\n",
      "Requirement already satisfied: pyasn1-modules>=0.2.1 in c:\\users\\jekad\\anaconda3\\lib\\site-packages (from google-auth<3,>=1.6.3->tensorboard<2.14,>=2.13->tensorflow-intel==2.13.0->tensorflow) (0.2.8)\n",
      "Requirement already satisfied: rsa<5,>=3.1.4 in c:\\users\\jekad\\anaconda3\\lib\\site-packages (from google-auth<3,>=1.6.3->tensorboard<2.14,>=2.13->tensorflow-intel==2.13.0->tensorflow) (4.9)\n",
      "Requirement already satisfied: urllib3<2.0 in c:\\users\\jekad\\anaconda3\\lib\\site-packages (from google-auth<3,>=1.6.3->tensorboard<2.14,>=2.13->tensorflow-intel==2.13.0->tensorflow) (1.26.16)\n",
      "Requirement already satisfied: requests-oauthlib>=0.7.0 in c:\\users\\jekad\\anaconda3\\lib\\site-packages (from google-auth-oauthlib<1.1,>=0.5->tensorboard<2.14,>=2.13->tensorflow-intel==2.13.0->tensorflow) (1.3.1)\n",
      "Requirement already satisfied: charset-normalizer<4,>=2 in c:\\users\\jekad\\anaconda3\\lib\\site-packages (from requests<3,>=2.21.0->tensorboard<2.14,>=2.13->tensorflow-intel==2.13.0->tensorflow) (2.0.4)\n",
      "Requirement already satisfied: idna<4,>=2.5 in c:\\users\\jekad\\anaconda3\\lib\\site-packages (from requests<3,>=2.21.0->tensorboard<2.14,>=2.13->tensorflow-intel==2.13.0->tensorflow) (3.4)\n",
      "Requirement already satisfied: certifi>=2017.4.17 in c:\\users\\jekad\\anaconda3\\lib\\site-packages (from requests<3,>=2.21.0->tensorboard<2.14,>=2.13->tensorflow-intel==2.13.0->tensorflow) (2023.7.22)\n",
      "Requirement already satisfied: MarkupSafe>=2.1.1 in c:\\users\\jekad\\anaconda3\\lib\\site-packages (from werkzeug>=1.0.1->tensorboard<2.14,>=2.13->tensorflow-intel==2.13.0->tensorflow) (2.1.1)\n",
      "Requirement already satisfied: pyasn1<0.5.0,>=0.4.6 in c:\\users\\jekad\\anaconda3\\lib\\site-packages (from pyasn1-modules>=0.2.1->google-auth<3,>=1.6.3->tensorboard<2.14,>=2.13->tensorflow-intel==2.13.0->tensorflow) (0.4.8)\n",
      "Requirement already satisfied: oauthlib>=3.0.0 in c:\\users\\jekad\\anaconda3\\lib\\site-packages (from requests-oauthlib>=0.7.0->google-auth-oauthlib<1.1,>=0.5->tensorboard<2.14,>=2.13->tensorflow-intel==2.13.0->tensorflow) (3.2.2)\n",
      "Note: you may need to restart the kernel to use updated packages.\n"
     ]
    }
   ],
   "source": [
    "pip install tensorflow"
   ]
  },
  {
   "cell_type": "code",
   "execution_count": 2,
   "id": "1ac65ae5",
   "metadata": {},
   "outputs": [],
   "source": [
    "import tensorflow as tf"
   ]
  },
  {
   "cell_type": "code",
   "execution_count": 3,
   "id": "cb976b36",
   "metadata": {},
   "outputs": [],
   "source": [
    "from tensorflow import keras"
   ]
  },
  {
   "cell_type": "code",
   "execution_count": 4,
   "id": "3da0389a",
   "metadata": {},
   "outputs": [],
   "source": [
    "from tensorflow.keras import layers"
   ]
  },
  {
   "cell_type": "code",
   "execution_count": 5,
   "id": "e449a885",
   "metadata": {},
   "outputs": [],
   "source": [
    "from tensorflow.keras.preprocessing.image import ImageDataGenerator"
   ]
  },
  {
   "cell_type": "code",
   "execution_count": 6,
   "id": "dc9546a5",
   "metadata": {},
   "outputs": [],
   "source": [
    "train_dir = '/Users/jekad/OneDrive/Documents/Practica Prueba/train'\n",
    "test_dir = '/Users/jekad/OneDrive/Documents/Practica Prueba/test'"
   ]
  },
  {
   "cell_type": "code",
   "execution_count": 7,
   "id": "274992b3",
   "metadata": {},
   "outputs": [],
   "source": [
    "img_height = 64\n",
    "img_width = 64\n",
    "batch_size = 32"
   ]
  },
  {
   "cell_type": "code",
   "execution_count": 8,
   "id": "1dc3882e",
   "metadata": {},
   "outputs": [],
   "source": [
    "train_datagen = ImageDataGenerator(\n",
    "    rescale=1./255,  # Normalizar los valores de píxeles al rango [0, 1]\n",
    ")"
   ]
  },
  {
   "cell_type": "code",
   "execution_count": 9,
   "id": "ecd8a48b",
   "metadata": {},
   "outputs": [],
   "source": [
    "test_datagen = ImageDataGenerator(\n",
    "    rescale=1./255  # Normalizar los valores de píxeles al rango [0, 1]\n",
    ")"
   ]
  },
  {
   "cell_type": "code",
   "execution_count": 10,
   "id": "8f6b4dac",
   "metadata": {},
   "outputs": [
    {
     "name": "stdout",
     "output_type": "stream",
     "text": [
      "Found 1633 images belonging to 8 classes.\n"
     ]
    }
   ],
   "source": [
    "train_generator = train_datagen.flow_from_directory(\n",
    "    train_dir,\n",
    "    target_size=(img_height, img_width),\n",
    "    batch_size=batch_size,\n",
    "    class_mode='categorical',  # Cambia a 'binary' si tienes solo dos clases\n",
    ")"
   ]
  },
  {
   "cell_type": "code",
   "execution_count": 11,
   "id": "5b13c0e4",
   "metadata": {},
   "outputs": [
    {
     "name": "stdout",
     "output_type": "stream",
     "text": [
      "Found 810 images belonging to 8 classes.\n"
     ]
    }
   ],
   "source": [
    "test_generator = test_datagen.flow_from_directory(\n",
    "    test_dir,\n",
    "    target_size=(img_height, img_width),\n",
    "    batch_size=batch_size,\n",
    "    class_mode='categorical',  # Cambia a 'binary' si tienes solo dos clases\n",
    ")"
   ]
  },
  {
   "cell_type": "code",
   "execution_count": 13,
   "id": "423078ad",
   "metadata": {},
   "outputs": [],
   "source": [
    "num_classes = 8  # Reemplaza 10 con el número real de clases en tu conjunto de datos"
   ]
  },
  {
   "cell_type": "code",
   "execution_count": 14,
   "id": "b192c43f",
   "metadata": {},
   "outputs": [],
   "source": [
    "model = tf.keras.Sequential([\n",
    "    tf.keras.layers.Conv2D(32, (3, 3), activation='relu', input_shape=(img_height, img_width, 3)),\n",
    "    tf.keras.layers.MaxPooling2D(2, 2),\n",
    "    tf.keras.layers.Conv2D(64, (3, 3), activation='relu'),\n",
    "    tf.keras.layers.MaxPooling2D(2, 2),\n",
    "    tf.keras.layers.Conv2D(128, (3, 3), activation='relu'),\n",
    "    tf.keras.layers.MaxPooling2D(2, 2),\n",
    "    tf.keras.layers.Flatten(),\n",
    "    tf.keras.layers.Dense(512, activation='relu'),\n",
    "    tf.keras.layers.Dense(num_classes, activation='softmax')  # Usamos 'softmax' para la clasificación multiclase\n",
    "])"
   ]
  },
  {
   "cell_type": "code",
   "execution_count": 15,
   "id": "ead1d71d",
   "metadata": {},
   "outputs": [],
   "source": [
    "model.compile(optimizer='adam',\n",
    "              loss='categorical_crossentropy',\n",
    "              metrics=['accuracy'])"
   ]
  },
  {
   "cell_type": "code",
   "execution_count": 16,
   "id": "bbea8996",
   "metadata": {},
   "outputs": [
    {
     "name": "stdout",
     "output_type": "stream",
     "text": [
      "Epoch 1/8\n",
      "52/52 [==============================] - 10s 174ms/step - loss: 1.4047 - accuracy: 0.5713 - val_loss: 1.2288 - val_accuracy: 0.5877\n",
      "Epoch 2/8\n",
      "52/52 [==============================] - 9s 171ms/step - loss: 0.8853 - accuracy: 0.6895 - val_loss: 0.8927 - val_accuracy: 0.6852\n",
      "Epoch 3/8\n",
      "52/52 [==============================] - 9s 167ms/step - loss: 0.7167 - accuracy: 0.7477 - val_loss: 0.6127 - val_accuracy: 0.7877\n",
      "Epoch 4/8\n",
      "52/52 [==============================] - 9s 169ms/step - loss: 0.5210 - accuracy: 0.8102 - val_loss: 0.5527 - val_accuracy: 0.7901\n",
      "Epoch 5/8\n",
      "52/52 [==============================] - 10s 187ms/step - loss: 0.4499 - accuracy: 0.8322 - val_loss: 0.5115 - val_accuracy: 0.8111\n",
      "Epoch 6/8\n",
      "52/52 [==============================] - 10s 184ms/step - loss: 0.3163 - accuracy: 0.8904 - val_loss: 0.6041 - val_accuracy: 0.8049\n",
      "Epoch 7/8\n",
      "52/52 [==============================] - 10s 200ms/step - loss: 0.3489 - accuracy: 0.8763 - val_loss: 0.4318 - val_accuracy: 0.8580\n",
      "Epoch 8/8\n",
      "52/52 [==============================] - 12s 224ms/step - loss: 0.5168 - accuracy: 0.7979 - val_loss: 0.6104 - val_accuracy: 0.7802\n"
     ]
    }
   ],
   "source": [
    "history = model.fit(\n",
    "    train_generator,\n",
    "    epochs=8,\n",
    "    validation_data=test_generator  # Utiliza el conjunto de prueba como datos de validación\n",
    ")"
   ]
  },
  {
   "cell_type": "code",
   "execution_count": 17,
   "id": "cd5ce863",
   "metadata": {},
   "outputs": [],
   "source": [
    "from PIL import Image"
   ]
  },
  {
   "cell_type": "code",
   "execution_count": 18,
   "id": "01c90b96",
   "metadata": {},
   "outputs": [
    {
     "ename": "FileNotFoundError",
     "evalue": "[Errno 2] No such file or directory: 'train/CLASS_01/14-CAPTURE_20220523_141530_080.png'",
     "output_type": "error",
     "traceback": [
      "\u001b[1;31m---------------------------------------------------------------------------\u001b[0m",
      "\u001b[1;31mFileNotFoundError\u001b[0m                         Traceback (most recent call last)",
      "Cell \u001b[1;32mIn[18], line 1\u001b[0m\n\u001b[1;32m----> 1\u001b[0m image \u001b[38;5;241m=\u001b[39m Image\u001b[38;5;241m.\u001b[39mopen(\u001b[38;5;124m'\u001b[39m\u001b[38;5;124mtrain/CLASS_01/14-CAPTURE_20220523_141530_080.png\u001b[39m\u001b[38;5;124m'\u001b[39m)\n",
      "File \u001b[1;32m~\\anaconda3\\Lib\\site-packages\\PIL\\Image.py:3227\u001b[0m, in \u001b[0;36mopen\u001b[1;34m(fp, mode, formats)\u001b[0m\n\u001b[0;32m   3224\u001b[0m     filename \u001b[38;5;241m=\u001b[39m fp\n\u001b[0;32m   3226\u001b[0m \u001b[38;5;28;01mif\u001b[39;00m filename:\n\u001b[1;32m-> 3227\u001b[0m     fp \u001b[38;5;241m=\u001b[39m builtins\u001b[38;5;241m.\u001b[39mopen(filename, \u001b[38;5;124m\"\u001b[39m\u001b[38;5;124mrb\u001b[39m\u001b[38;5;124m\"\u001b[39m)\n\u001b[0;32m   3228\u001b[0m     exclusive_fp \u001b[38;5;241m=\u001b[39m \u001b[38;5;28;01mTrue\u001b[39;00m\n\u001b[0;32m   3230\u001b[0m \u001b[38;5;28;01mtry\u001b[39;00m:\n",
      "\u001b[1;31mFileNotFoundError\u001b[0m: [Errno 2] No such file or directory: 'train/CLASS_01/14-CAPTURE_20220523_141530_080.png'"
     ]
    }
   ],
   "source": [
    "image = Image.open('train/CLASS_01/14-CAPTURE_20220523_141530_080.png')  # Reemplaza 'ruta/a/tu/imagen.jpg' con la ruta real de tu imagen"
   ]
  },
  {
   "cell_type": "code",
   "execution_count": 19,
   "id": "a1c149ce",
   "metadata": {},
   "outputs": [],
   "source": [
    "image = Image.open('test/CLASS_01/14-CAPTURE_20220523_141530_080.png')  # Reemplaza 'ruta/a/tu/imagen.jpg' con la ruta real de tu imagen"
   ]
  },
  {
   "cell_type": "code",
   "execution_count": 20,
   "id": "9dd6b0e0",
   "metadata": {},
   "outputs": [],
   "source": [
    "image = image.resize((img_width, img_height))"
   ]
  },
  {
   "cell_type": "code",
   "execution_count": 21,
   "id": "8c60ee72",
   "metadata": {},
   "outputs": [],
   "source": [
    "image = tf.keras.preprocessing.image.img_to_array(image)\n",
    "image = image / 255.0  # Normaliza los valores de píxeles al rango [0, 1]\n",
    "image = image.reshape(1, img_height, img_width, 3)  # Añade una dimensión para el lote (batch)"
   ]
  },
  {
   "cell_type": "code",
   "execution_count": 22,
   "id": "7a2d9757",
   "metadata": {},
   "outputs": [
    {
     "name": "stdout",
     "output_type": "stream",
     "text": [
      "1/1 [==============================] - 0s 76ms/step\n"
     ]
    }
   ],
   "source": [
    "predictions = model.predict(image)"
   ]
  },
  {
   "cell_type": "code",
   "execution_count": 23,
   "id": "299ba6bb",
   "metadata": {},
   "outputs": [],
   "source": [
    "predicted_class = tf.argmax(predictions, axis=1)[0]"
   ]
  },
  {
   "cell_type": "code",
   "execution_count": 24,
   "id": "e919c05d",
   "metadata": {},
   "outputs": [],
   "source": [
    "class_labels = train_generator.class_indices  # Diccionario de etiquetas de clase\n",
    "\n",
    "predicted_label = [label for label, index in class_labels.items() if index == predicted_class][0]"
   ]
  },
  {
   "cell_type": "code",
   "execution_count": 25,
   "id": "00ff6872",
   "metadata": {},
   "outputs": [
    {
     "name": "stdout",
     "output_type": "stream",
     "text": [
      "La imagen pertenece a la clase: CLASS_05\n"
     ]
    }
   ],
   "source": [
    "print(f'La imagen pertenece a la clase: {predicted_label}')"
   ]
  },
  {
   "cell_type": "code",
   "execution_count": 27,
   "id": "6d74fba5",
   "metadata": {},
   "outputs": [
    {
     "ename": "OSError",
     "evalue": "[Errno 22] Invalid argument: 'test/CLASS_04/12-CAPTURE_20220421_123205_943.png/'",
     "output_type": "error",
     "traceback": [
      "\u001b[1;31m---------------------------------------------------------------------------\u001b[0m",
      "\u001b[1;31mOSError\u001b[0m                                   Traceback (most recent call last)",
      "Cell \u001b[1;32mIn[27], line 1\u001b[0m\n\u001b[1;32m----> 1\u001b[0m image \u001b[38;5;241m=\u001b[39m Image\u001b[38;5;241m.\u001b[39mopen(\u001b[38;5;124m'\u001b[39m\u001b[38;5;124mtest/CLASS_04/12-CAPTURE_20220421_123205_943.png/\u001b[39m\u001b[38;5;124m'\u001b[39m)  \u001b[38;5;66;03m# Reemplaza 'ruta/a/tu/imagen.jpg' con la ruta real de tu imagen\u001b[39;00m\n\u001b[0;32m      2\u001b[0m image \u001b[38;5;241m=\u001b[39m image\u001b[38;5;241m.\u001b[39mresize((img_width, img_height))\n\u001b[0;32m      3\u001b[0m image \u001b[38;5;241m=\u001b[39m tf\u001b[38;5;241m.\u001b[39mkeras\u001b[38;5;241m.\u001b[39mpreprocessing\u001b[38;5;241m.\u001b[39mimage\u001b[38;5;241m.\u001b[39mimg_to_array(image)\n",
      "File \u001b[1;32m~\\anaconda3\\Lib\\site-packages\\PIL\\Image.py:3227\u001b[0m, in \u001b[0;36mopen\u001b[1;34m(fp, mode, formats)\u001b[0m\n\u001b[0;32m   3224\u001b[0m     filename \u001b[38;5;241m=\u001b[39m fp\n\u001b[0;32m   3226\u001b[0m \u001b[38;5;28;01mif\u001b[39;00m filename:\n\u001b[1;32m-> 3227\u001b[0m     fp \u001b[38;5;241m=\u001b[39m builtins\u001b[38;5;241m.\u001b[39mopen(filename, \u001b[38;5;124m\"\u001b[39m\u001b[38;5;124mrb\u001b[39m\u001b[38;5;124m\"\u001b[39m)\n\u001b[0;32m   3228\u001b[0m     exclusive_fp \u001b[38;5;241m=\u001b[39m \u001b[38;5;28;01mTrue\u001b[39;00m\n\u001b[0;32m   3230\u001b[0m \u001b[38;5;28;01mtry\u001b[39;00m:\n",
      "\u001b[1;31mOSError\u001b[0m: [Errno 22] Invalid argument: 'test/CLASS_04/12-CAPTURE_20220421_123205_943.png/'"
     ]
    }
   ],
   "source": [
    "image = Image.open('test/CLASS_04/12-CAPTURE_20220421_123205_943.png/')  # Reemplaza 'ruta/a/tu/imagen.jpg' con la ruta real de tu imagen\n",
    "image = image.resize((img_width, img_height))\n",
    "image = tf.keras.preprocessing.image.img_to_array(image)\n",
    "image = image / 255.0  # Normaliza los valores de píxeles al rango [0, 1]\n",
    "image = image.reshape(1, img_height, img_width, 3)  # Añade una dimensión para el lote (batch)\n",
    "predicted_class = tf.argmax(predictions, axis=1)[0]\n",
    "class_labels = train_generator.class_indices  # Diccionario de etiquetas de clase\n",
    "predicted_label = [label for label, index in class_labels.items() if index == predicted_class][0]\n",
    "print(f'La imagen pertenece a la clase: {predicted_label}')"
   ]
  },
  {
   "cell_type": "code",
   "execution_count": 28,
   "id": "d709cc2d",
   "metadata": {},
   "outputs": [
    {
     "name": "stdout",
     "output_type": "stream",
     "text": [
      "La imagen pertenece a la clase: CLASS_05\n"
     ]
    }
   ],
   "source": [
    "image = Image.open('test/CLASS_04/12-CAPTURE_20220421_123205_943.png')  # Reemplaza 'ruta/a/tu/imagen.jpg' con la ruta real de tu imagen\n",
    "image = image.resize((img_width, img_height))\n",
    "image = tf.keras.preprocessing.image.img_to_array(image)\n",
    "image = image / 255.0  # Normaliza los valores de píxeles al rango [0, 1]\n",
    "image = image.reshape(1, img_height, img_width, 3)  # Añade una dimensión para el lote (batch)\n",
    "predicted_class = tf.argmax(predictions, axis=1)[0]\n",
    "class_labels = train_generator.class_indices  # Diccionario de etiquetas de clase\n",
    "predicted_label = [label for label, index in class_labels.items() if index == predicted_class][0]\n",
    "print(f'La imagen pertenece a la clase: {predicted_label}')"
   ]
  },
  {
   "cell_type": "code",
   "execution_count": 29,
   "id": "dee8103b",
   "metadata": {},
   "outputs": [],
   "source": [
    "from sklearn.metrics import confusion_matrix"
   ]
  },
  {
   "cell_type": "code",
   "execution_count": 30,
   "id": "cae87fdb",
   "metadata": {},
   "outputs": [],
   "source": [
    "import numpy as np"
   ]
  },
  {
   "cell_type": "code",
   "execution_count": 31,
   "id": "bb641127",
   "metadata": {},
   "outputs": [
    {
     "ename": "NameError",
     "evalue": "name 'test_images' is not defined",
     "output_type": "error",
     "traceback": [
      "\u001b[1;31m---------------------------------------------------------------------------\u001b[0m",
      "\u001b[1;31mNameError\u001b[0m                                 Traceback (most recent call last)",
      "Cell \u001b[1;32mIn[31], line 1\u001b[0m\n\u001b[1;32m----> 1\u001b[0m y_pred \u001b[38;5;241m=\u001b[39m model\u001b[38;5;241m.\u001b[39mpredict(test_images)\n",
      "\u001b[1;31mNameError\u001b[0m: name 'test_images' is not defined"
     ]
    }
   ],
   "source": [
    "y_pred = model.predict(test_images)"
   ]
  },
  {
   "cell_type": "code",
   "execution_count": 32,
   "id": "35d5d544",
   "metadata": {},
   "outputs": [],
   "source": [
    "from PIL import Image\n",
    "import os\n",
    "import numpy as np"
   ]
  },
  {
   "cell_type": "code",
   "execution_count": 33,
   "id": "a1f13c3c",
   "metadata": {},
   "outputs": [],
   "source": [
    "test_dir = '/Users/jekad/OneDrive/Documents/Practica Prueba/test'"
   ]
  },
  {
   "cell_type": "code",
   "execution_count": 34,
   "id": "21e04fc5",
   "metadata": {},
   "outputs": [],
   "source": [
    "test_images = []\n",
    "# Lista para almacenar las etiquetas de prueba\n",
    "test_labels = []"
   ]
  },
  {
   "cell_type": "code",
   "execution_count": 35,
   "id": "fc72cc1a",
   "metadata": {},
   "outputs": [],
   "source": [
    "for root, dirs, files in os.walk(test_dir):\n",
    "    for file in files:\n",
    "        # Verifica si el archivo es una imagen (puedes ajustar esta comprobación según tu formato de imagen)\n",
    "        if file.endswith(('.png', '.jpg', '.jpeg')):\n",
    "            # Carga la imagen usando PIL\n",
    "            image = Image.open(os.path.join(root, file))\n",
    "            # Añade la imagen a la lista de imágenes de prueba\n",
    "            test_images.append(np.array(image))\n",
    "            # Añade la etiqueta correspondiente (puedes ajustar esto según tu estructura de directorios)\n",
    "            label = root.split(os.path.sep)[-1]  # Suponiendo que la etiqueta está en el nombre del directorio\n",
    "            test_labels.append(label)"
   ]
  },
  {
   "cell_type": "code",
   "execution_count": 36,
   "id": "ba9c6c53",
   "metadata": {},
   "outputs": [],
   "source": [
    "test_images = np.array(test_images)\n",
    "test_labels = np.array(test_labels)"
   ]
  },
  {
   "cell_type": "code",
   "execution_count": 37,
   "id": "2cb1b72d",
   "metadata": {},
   "outputs": [
    {
     "ename": "ValueError",
     "evalue": "in user code:\n\n    File \"C:\\Users\\jekad\\anaconda3\\Lib\\site-packages\\keras\\src\\engine\\training.py\", line 2341, in predict_function  *\n        return step_function(self, iterator)\n    File \"C:\\Users\\jekad\\anaconda3\\Lib\\site-packages\\keras\\src\\engine\\training.py\", line 2327, in step_function  **\n        outputs = model.distribute_strategy.run(run_step, args=(data,))\n    File \"C:\\Users\\jekad\\anaconda3\\Lib\\site-packages\\keras\\src\\engine\\training.py\", line 2315, in run_step  **\n        outputs = model.predict_step(data)\n    File \"C:\\Users\\jekad\\anaconda3\\Lib\\site-packages\\keras\\src\\engine\\training.py\", line 2283, in predict_step\n        return self(x, training=False)\n    File \"C:\\Users\\jekad\\anaconda3\\Lib\\site-packages\\keras\\src\\utils\\traceback_utils.py\", line 70, in error_handler\n        raise e.with_traceback(filtered_tb) from None\n    File \"C:\\Users\\jekad\\anaconda3\\Lib\\site-packages\\keras\\src\\engine\\input_spec.py\", line 298, in assert_input_compatibility\n        raise ValueError(\n\n    ValueError: Input 0 of layer \"sequential\" is incompatible with the layer: expected shape=(None, 64, 64, 3), found shape=(None, 216, 384, 3)\n",
     "output_type": "error",
     "traceback": [
      "\u001b[1;31m---------------------------------------------------------------------------\u001b[0m",
      "\u001b[1;31mValueError\u001b[0m                                Traceback (most recent call last)",
      "Cell \u001b[1;32mIn[37], line 1\u001b[0m\n\u001b[1;32m----> 1\u001b[0m y_pred \u001b[38;5;241m=\u001b[39m model\u001b[38;5;241m.\u001b[39mpredict(test_images)\n",
      "File \u001b[1;32m~\\anaconda3\\Lib\\site-packages\\keras\\src\\utils\\traceback_utils.py:70\u001b[0m, in \u001b[0;36mfilter_traceback.<locals>.error_handler\u001b[1;34m(*args, **kwargs)\u001b[0m\n\u001b[0;32m     67\u001b[0m     filtered_tb \u001b[38;5;241m=\u001b[39m _process_traceback_frames(e\u001b[38;5;241m.\u001b[39m__traceback__)\n\u001b[0;32m     68\u001b[0m     \u001b[38;5;66;03m# To get the full stack trace, call:\u001b[39;00m\n\u001b[0;32m     69\u001b[0m     \u001b[38;5;66;03m# `tf.debugging.disable_traceback_filtering()`\u001b[39;00m\n\u001b[1;32m---> 70\u001b[0m     \u001b[38;5;28;01mraise\u001b[39;00m e\u001b[38;5;241m.\u001b[39mwith_traceback(filtered_tb) \u001b[38;5;28;01mfrom\u001b[39;00m \u001b[38;5;28;01mNone\u001b[39;00m\n\u001b[0;32m     71\u001b[0m \u001b[38;5;28;01mfinally\u001b[39;00m:\n\u001b[0;32m     72\u001b[0m     \u001b[38;5;28;01mdel\u001b[39;00m filtered_tb\n",
      "File \u001b[1;32m~\\AppData\\Local\\Temp\\__autograph_generated_filespk02ro4.py:15\u001b[0m, in \u001b[0;36mouter_factory.<locals>.inner_factory.<locals>.tf__predict_function\u001b[1;34m(iterator)\u001b[0m\n\u001b[0;32m     13\u001b[0m \u001b[38;5;28;01mtry\u001b[39;00m:\n\u001b[0;32m     14\u001b[0m     do_return \u001b[38;5;241m=\u001b[39m \u001b[38;5;28;01mTrue\u001b[39;00m\n\u001b[1;32m---> 15\u001b[0m     retval_ \u001b[38;5;241m=\u001b[39m ag__\u001b[38;5;241m.\u001b[39mconverted_call(ag__\u001b[38;5;241m.\u001b[39mld(step_function), (ag__\u001b[38;5;241m.\u001b[39mld(\u001b[38;5;28mself\u001b[39m), ag__\u001b[38;5;241m.\u001b[39mld(iterator)), \u001b[38;5;28;01mNone\u001b[39;00m, fscope)\n\u001b[0;32m     16\u001b[0m \u001b[38;5;28;01mexcept\u001b[39;00m:\n\u001b[0;32m     17\u001b[0m     do_return \u001b[38;5;241m=\u001b[39m \u001b[38;5;28;01mFalse\u001b[39;00m\n",
      "\u001b[1;31mValueError\u001b[0m: in user code:\n\n    File \"C:\\Users\\jekad\\anaconda3\\Lib\\site-packages\\keras\\src\\engine\\training.py\", line 2341, in predict_function  *\n        return step_function(self, iterator)\n    File \"C:\\Users\\jekad\\anaconda3\\Lib\\site-packages\\keras\\src\\engine\\training.py\", line 2327, in step_function  **\n        outputs = model.distribute_strategy.run(run_step, args=(data,))\n    File \"C:\\Users\\jekad\\anaconda3\\Lib\\site-packages\\keras\\src\\engine\\training.py\", line 2315, in run_step  **\n        outputs = model.predict_step(data)\n    File \"C:\\Users\\jekad\\anaconda3\\Lib\\site-packages\\keras\\src\\engine\\training.py\", line 2283, in predict_step\n        return self(x, training=False)\n    File \"C:\\Users\\jekad\\anaconda3\\Lib\\site-packages\\keras\\src\\utils\\traceback_utils.py\", line 70, in error_handler\n        raise e.with_traceback(filtered_tb) from None\n    File \"C:\\Users\\jekad\\anaconda3\\Lib\\site-packages\\keras\\src\\engine\\input_spec.py\", line 298, in assert_input_compatibility\n        raise ValueError(\n\n    ValueError: Input 0 of layer \"sequential\" is incompatible with the layer: expected shape=(None, 64, 64, 3), found shape=(None, 216, 384, 3)\n"
     ]
    }
   ],
   "source": [
    "y_pred = model.predict(test_images)"
   ]
  },
  {
   "cell_type": "code",
   "execution_count": 38,
   "id": "3194b497",
   "metadata": {},
   "outputs": [],
   "source": [
    "from PIL import Image\n",
    "import os\n",
    "import numpy as np"
   ]
  },
  {
   "cell_type": "code",
   "execution_count": 39,
   "id": "6d7a81c8",
   "metadata": {},
   "outputs": [],
   "source": [
    "test_dir = '/Users/jekad/OneDrive/Documents/Practica Prueba/test'"
   ]
  },
  {
   "cell_type": "code",
   "execution_count": 40,
   "id": "4c6683b9",
   "metadata": {},
   "outputs": [],
   "source": [
    "# Lista para almacenar las imágenes de prueba\n",
    "test_images = []\n",
    "# Lista para almacenar las etiquetas de prueba\n",
    "test_labels = []"
   ]
  },
  {
   "cell_type": "code",
   "execution_count": 41,
   "id": "f642b85d",
   "metadata": {},
   "outputs": [],
   "source": [
    "img_width = 64\n",
    "img_height = 64"
   ]
  },
  {
   "cell_type": "code",
   "execution_count": 42,
   "id": "06000211",
   "metadata": {},
   "outputs": [],
   "source": [
    "for root, dirs, files in os.walk(test_dir):\n",
    "    for file in files:\n",
    "        # Verifica si el archivo es una imagen (puedes ajustar esta comprobación según tu formato de imagen)\n",
    "        if file.endswith(('.png', '.jpg', '.jpeg')):\n",
    "            # Carga la imagen usando PIL\n",
    "            image = Image.open(os.path.join(root, file))\n",
    "            # Redimensiona la imagen a las dimensiones esperadas por tu modelo\n",
    "            image = image.resize((img_width, img_height))\n",
    "            # Añade la imagen a la lista de imágenes de prueba\n",
    "            test_images.append(np.array(image))\n",
    "            # Añade la etiqueta correspondiente (puedes ajustar esto según tu estructura de directorios)\n",
    "            label = root.split(os.path.sep)[-1]  # Suponiendo que la etiqueta está en el nombre del directorio\n",
    "            test_labels.append(label)"
   ]
  },
  {
   "cell_type": "code",
   "execution_count": 43,
   "id": "2eb17247",
   "metadata": {},
   "outputs": [],
   "source": [
    "# Convierte las listas a arrays NumPy\n",
    "test_images = np.array(test_images)\n",
    "test_labels = np.array(test_labels)"
   ]
  },
  {
   "cell_type": "code",
   "execution_count": 44,
   "id": "23b33b06",
   "metadata": {},
   "outputs": [
    {
     "name": "stdout",
     "output_type": "stream",
     "text": [
      "26/26 [==============================] - 0s 14ms/step\n"
     ]
    }
   ],
   "source": [
    "y_pred = model.predict(test_images)"
   ]
  },
  {
   "cell_type": "code",
   "execution_count": 45,
   "id": "7472d926",
   "metadata": {},
   "outputs": [],
   "source": [
    "from sklearn.metrics import confusion_matrix\n",
    "import numpy as np"
   ]
  },
  {
   "cell_type": "code",
   "execution_count": 46,
   "id": "d0849b87",
   "metadata": {},
   "outputs": [
    {
     "ename": "NameError",
     "evalue": "name 'y_true' is not defined",
     "output_type": "error",
     "traceback": [
      "\u001b[1;31m---------------------------------------------------------------------------\u001b[0m",
      "\u001b[1;31mNameError\u001b[0m                                 Traceback (most recent call last)",
      "Cell \u001b[1;32mIn[46], line 1\u001b[0m\n\u001b[1;32m----> 1\u001b[0m confusion \u001b[38;5;241m=\u001b[39m confusion_matrix(y_true, y_pred_classes)\n",
      "\u001b[1;31mNameError\u001b[0m: name 'y_true' is not defined"
     ]
    }
   ],
   "source": [
    "confusion = confusion_matrix(y_true, y_pred_classes)"
   ]
  },
  {
   "cell_type": "code",
   "execution_count": 47,
   "id": "d8fbda4f",
   "metadata": {},
   "outputs": [
    {
     "ename": "AxisError",
     "evalue": "axis 1 is out of bounds for array of dimension 1",
     "output_type": "error",
     "traceback": [
      "\u001b[1;31m---------------------------------------------------------------------------\u001b[0m",
      "\u001b[1;31mAxisError\u001b[0m                                 Traceback (most recent call last)",
      "Cell \u001b[1;32mIn[47], line 2\u001b[0m\n\u001b[0;32m      1\u001b[0m \u001b[38;5;66;03m# Convierte las etiquetas reales y predicciones a clases (índices de clases)\u001b[39;00m\n\u001b[1;32m----> 2\u001b[0m y_true \u001b[38;5;241m=\u001b[39m np\u001b[38;5;241m.\u001b[39margmax(test_labels, axis\u001b[38;5;241m=\u001b[39m\u001b[38;5;241m1\u001b[39m)  \u001b[38;5;66;03m# Asume que 'test_labels' contiene las etiquetas reales codificadas en one-hot\u001b[39;00m\n\u001b[0;32m      3\u001b[0m y_pred_classes \u001b[38;5;241m=\u001b[39m np\u001b[38;5;241m.\u001b[39margmax(y_pred, axis\u001b[38;5;241m=\u001b[39m\u001b[38;5;241m1\u001b[39m)\n",
      "File \u001b[1;32m<__array_function__ internals>:200\u001b[0m, in \u001b[0;36margmax\u001b[1;34m(*args, **kwargs)\u001b[0m\n",
      "File \u001b[1;32m~\\anaconda3\\Lib\\site-packages\\numpy\\core\\fromnumeric.py:1242\u001b[0m, in \u001b[0;36margmax\u001b[1;34m(a, axis, out, keepdims)\u001b[0m\n\u001b[0;32m   1155\u001b[0m \u001b[38;5;250m\u001b[39m\u001b[38;5;124;03m\"\"\"\u001b[39;00m\n\u001b[0;32m   1156\u001b[0m \u001b[38;5;124;03mReturns the indices of the maximum values along an axis.\u001b[39;00m\n\u001b[0;32m   1157\u001b[0m \n\u001b[1;32m   (...)\u001b[0m\n\u001b[0;32m   1239\u001b[0m \u001b[38;5;124;03m(2, 1, 4)\u001b[39;00m\n\u001b[0;32m   1240\u001b[0m \u001b[38;5;124;03m\"\"\"\u001b[39;00m\n\u001b[0;32m   1241\u001b[0m kwds \u001b[38;5;241m=\u001b[39m {\u001b[38;5;124m'\u001b[39m\u001b[38;5;124mkeepdims\u001b[39m\u001b[38;5;124m'\u001b[39m: keepdims} \u001b[38;5;28;01mif\u001b[39;00m keepdims \u001b[38;5;129;01mis\u001b[39;00m \u001b[38;5;129;01mnot\u001b[39;00m np\u001b[38;5;241m.\u001b[39m_NoValue \u001b[38;5;28;01melse\u001b[39;00m {}\n\u001b[1;32m-> 1242\u001b[0m \u001b[38;5;28;01mreturn\u001b[39;00m _wrapfunc(a, \u001b[38;5;124m'\u001b[39m\u001b[38;5;124margmax\u001b[39m\u001b[38;5;124m'\u001b[39m, axis\u001b[38;5;241m=\u001b[39maxis, out\u001b[38;5;241m=\u001b[39mout, \u001b[38;5;241m*\u001b[39m\u001b[38;5;241m*\u001b[39mkwds)\n",
      "File \u001b[1;32m~\\anaconda3\\Lib\\site-packages\\numpy\\core\\fromnumeric.py:57\u001b[0m, in \u001b[0;36m_wrapfunc\u001b[1;34m(obj, method, *args, **kwds)\u001b[0m\n\u001b[0;32m     54\u001b[0m     \u001b[38;5;28;01mreturn\u001b[39;00m _wrapit(obj, method, \u001b[38;5;241m*\u001b[39margs, \u001b[38;5;241m*\u001b[39m\u001b[38;5;241m*\u001b[39mkwds)\n\u001b[0;32m     56\u001b[0m \u001b[38;5;28;01mtry\u001b[39;00m:\n\u001b[1;32m---> 57\u001b[0m     \u001b[38;5;28;01mreturn\u001b[39;00m bound(\u001b[38;5;241m*\u001b[39margs, \u001b[38;5;241m*\u001b[39m\u001b[38;5;241m*\u001b[39mkwds)\n\u001b[0;32m     58\u001b[0m \u001b[38;5;28;01mexcept\u001b[39;00m \u001b[38;5;167;01mTypeError\u001b[39;00m:\n\u001b[0;32m     59\u001b[0m     \u001b[38;5;66;03m# A TypeError occurs if the object does have such a method in its\u001b[39;00m\n\u001b[0;32m     60\u001b[0m     \u001b[38;5;66;03m# class, but its signature is not identical to that of NumPy's. This\u001b[39;00m\n\u001b[1;32m   (...)\u001b[0m\n\u001b[0;32m     64\u001b[0m     \u001b[38;5;66;03m# Call _wrapit from within the except clause to ensure a potential\u001b[39;00m\n\u001b[0;32m     65\u001b[0m     \u001b[38;5;66;03m# exception has a traceback chain.\u001b[39;00m\n\u001b[0;32m     66\u001b[0m     \u001b[38;5;28;01mreturn\u001b[39;00m _wrapit(obj, method, \u001b[38;5;241m*\u001b[39margs, \u001b[38;5;241m*\u001b[39m\u001b[38;5;241m*\u001b[39mkwds)\n",
      "\u001b[1;31mAxisError\u001b[0m: axis 1 is out of bounds for array of dimension 1"
     ]
    }
   ],
   "source": [
    "# Convierte las etiquetas reales y predicciones a clases (índices de clases)\n",
    "y_true = np.argmax(test_labels, axis=1)  # Asume que 'test_labels' contiene las etiquetas reales codificadas en one-hot\n",
    "y_pred_classes = np.argmax(y_pred, axis=1)"
   ]
  },
  {
   "cell_type": "code",
   "execution_count": 50,
   "id": "8f017d70",
   "metadata": {},
   "outputs": [],
   "source": [
    "from sklearn.metrics import confusion_matrix"
   ]
  },
  {
   "cell_type": "code",
   "execution_count": 49,
   "id": "6828fc98",
   "metadata": {},
   "outputs": [
    {
     "ename": "NameError",
     "evalue": "name 'y_pred_classes' is not defined",
     "output_type": "error",
     "traceback": [
      "\u001b[1;31m---------------------------------------------------------------------------\u001b[0m",
      "\u001b[1;31mNameError\u001b[0m                                 Traceback (most recent call last)",
      "Cell \u001b[1;32mIn[49], line 1\u001b[0m\n\u001b[1;32m----> 1\u001b[0m confusion \u001b[38;5;241m=\u001b[39m confusion_matrix(test_labels, y_pred_classes)\n",
      "\u001b[1;31mNameError\u001b[0m: name 'y_pred_classes' is not defined"
     ]
    }
   ],
   "source": [
    "confusion = confusion_matrix(test_labels, y_pred_classes)"
   ]
  },
  {
   "cell_type": "code",
   "execution_count": 51,
   "id": "acdd217f",
   "metadata": {},
   "outputs": [],
   "source": [
    "y_pred_classes = np.argmax(y_pred, axis=1)"
   ]
  },
  {
   "cell_type": "code",
   "execution_count": 52,
   "id": "e849d3f5",
   "metadata": {},
   "outputs": [
    {
     "ename": "ValueError",
     "evalue": "Mix of label input types (string and number)",
     "output_type": "error",
     "traceback": [
      "\u001b[1;31m---------------------------------------------------------------------------\u001b[0m",
      "\u001b[1;31mValueError\u001b[0m                                Traceback (most recent call last)",
      "Cell \u001b[1;32mIn[52], line 1\u001b[0m\n\u001b[1;32m----> 1\u001b[0m confusion \u001b[38;5;241m=\u001b[39m confusion_matrix(test_labels, y_pred_classes)\n",
      "File \u001b[1;32m~\\anaconda3\\Lib\\site-packages\\sklearn\\utils\\_param_validation.py:211\u001b[0m, in \u001b[0;36mvalidate_params.<locals>.decorator.<locals>.wrapper\u001b[1;34m(*args, **kwargs)\u001b[0m\n\u001b[0;32m    205\u001b[0m \u001b[38;5;28;01mtry\u001b[39;00m:\n\u001b[0;32m    206\u001b[0m     \u001b[38;5;28;01mwith\u001b[39;00m config_context(\n\u001b[0;32m    207\u001b[0m         skip_parameter_validation\u001b[38;5;241m=\u001b[39m(\n\u001b[0;32m    208\u001b[0m             prefer_skip_nested_validation \u001b[38;5;129;01mor\u001b[39;00m global_skip_validation\n\u001b[0;32m    209\u001b[0m         )\n\u001b[0;32m    210\u001b[0m     ):\n\u001b[1;32m--> 211\u001b[0m         \u001b[38;5;28;01mreturn\u001b[39;00m func(\u001b[38;5;241m*\u001b[39margs, \u001b[38;5;241m*\u001b[39m\u001b[38;5;241m*\u001b[39mkwargs)\n\u001b[0;32m    212\u001b[0m \u001b[38;5;28;01mexcept\u001b[39;00m InvalidParameterError \u001b[38;5;28;01mas\u001b[39;00m e:\n\u001b[0;32m    213\u001b[0m     \u001b[38;5;66;03m# When the function is just a wrapper around an estimator, we allow\u001b[39;00m\n\u001b[0;32m    214\u001b[0m     \u001b[38;5;66;03m# the function to delegate validation to the estimator, but we replace\u001b[39;00m\n\u001b[0;32m    215\u001b[0m     \u001b[38;5;66;03m# the name of the estimator by the name of the function in the error\u001b[39;00m\n\u001b[0;32m    216\u001b[0m     \u001b[38;5;66;03m# message to avoid confusion.\u001b[39;00m\n\u001b[0;32m    217\u001b[0m     msg \u001b[38;5;241m=\u001b[39m re\u001b[38;5;241m.\u001b[39msub(\n\u001b[0;32m    218\u001b[0m         \u001b[38;5;124mr\u001b[39m\u001b[38;5;124m\"\u001b[39m\u001b[38;5;124mparameter of \u001b[39m\u001b[38;5;124m\\\u001b[39m\u001b[38;5;124mw+ must be\u001b[39m\u001b[38;5;124m\"\u001b[39m,\n\u001b[0;32m    219\u001b[0m         \u001b[38;5;124mf\u001b[39m\u001b[38;5;124m\"\u001b[39m\u001b[38;5;124mparameter of \u001b[39m\u001b[38;5;132;01m{\u001b[39;00mfunc\u001b[38;5;241m.\u001b[39m\u001b[38;5;18m__qualname__\u001b[39m\u001b[38;5;132;01m}\u001b[39;00m\u001b[38;5;124m must be\u001b[39m\u001b[38;5;124m\"\u001b[39m,\n\u001b[0;32m    220\u001b[0m         \u001b[38;5;28mstr\u001b[39m(e),\n\u001b[0;32m    221\u001b[0m     )\n",
      "File \u001b[1;32m~\\anaconda3\\Lib\\site-packages\\sklearn\\metrics\\_classification.py:331\u001b[0m, in \u001b[0;36mconfusion_matrix\u001b[1;34m(y_true, y_pred, labels, sample_weight, normalize)\u001b[0m\n\u001b[0;32m    328\u001b[0m     \u001b[38;5;28;01mraise\u001b[39;00m \u001b[38;5;167;01mValueError\u001b[39;00m(\u001b[38;5;124m\"\u001b[39m\u001b[38;5;132;01m%s\u001b[39;00m\u001b[38;5;124m is not supported\u001b[39m\u001b[38;5;124m\"\u001b[39m \u001b[38;5;241m%\u001b[39m y_type)\n\u001b[0;32m    330\u001b[0m \u001b[38;5;28;01mif\u001b[39;00m labels \u001b[38;5;129;01mis\u001b[39;00m \u001b[38;5;28;01mNone\u001b[39;00m:\n\u001b[1;32m--> 331\u001b[0m     labels \u001b[38;5;241m=\u001b[39m unique_labels(y_true, y_pred)\n\u001b[0;32m    332\u001b[0m \u001b[38;5;28;01melse\u001b[39;00m:\n\u001b[0;32m    333\u001b[0m     labels \u001b[38;5;241m=\u001b[39m np\u001b[38;5;241m.\u001b[39masarray(labels)\n",
      "File \u001b[1;32m~\\anaconda3\\Lib\\site-packages\\sklearn\\utils\\multiclass.py:114\u001b[0m, in \u001b[0;36munique_labels\u001b[1;34m(*ys)\u001b[0m\n\u001b[0;32m    112\u001b[0m \u001b[38;5;66;03m# Check that we don't mix string type with number type\u001b[39;00m\n\u001b[0;32m    113\u001b[0m \u001b[38;5;28;01mif\u001b[39;00m \u001b[38;5;28mlen\u001b[39m(\u001b[38;5;28mset\u001b[39m(\u001b[38;5;28misinstance\u001b[39m(label, \u001b[38;5;28mstr\u001b[39m) \u001b[38;5;28;01mfor\u001b[39;00m label \u001b[38;5;129;01min\u001b[39;00m ys_labels)) \u001b[38;5;241m>\u001b[39m \u001b[38;5;241m1\u001b[39m:\n\u001b[1;32m--> 114\u001b[0m     \u001b[38;5;28;01mraise\u001b[39;00m \u001b[38;5;167;01mValueError\u001b[39;00m(\u001b[38;5;124m\"\u001b[39m\u001b[38;5;124mMix of label input types (string and number)\u001b[39m\u001b[38;5;124m\"\u001b[39m)\n\u001b[0;32m    116\u001b[0m \u001b[38;5;28;01mreturn\u001b[39;00m xp\u001b[38;5;241m.\u001b[39masarray(\u001b[38;5;28msorted\u001b[39m(ys_labels))\n",
      "\u001b[1;31mValueError\u001b[0m: Mix of label input types (string and number)"
     ]
    }
   ],
   "source": [
    "confusion = confusion_matrix(test_labels, y_pred_classes)"
   ]
  },
  {
   "cell_type": "code",
   "execution_count": 53,
   "id": "3f9dc8f3",
   "metadata": {},
   "outputs": [],
   "source": [
    "from sklearn.preprocessing import LabelEncoder"
   ]
  },
  {
   "cell_type": "code",
   "execution_count": 54,
   "id": "ffc6e5dd",
   "metadata": {},
   "outputs": [],
   "source": [
    "label_encoder = LabelEncoder()"
   ]
  },
  {
   "cell_type": "code",
   "execution_count": 55,
   "id": "22b47b0b",
   "metadata": {},
   "outputs": [],
   "source": [
    "y_true_encoded = label_encoder.fit_transform(test_labels)"
   ]
  },
  {
   "cell_type": "code",
   "execution_count": 56,
   "id": "642b66ce",
   "metadata": {},
   "outputs": [],
   "source": [
    "confusion = confusion_matrix(y_true_encoded, y_pred_classes)"
   ]
  },
  {
   "cell_type": "code",
   "execution_count": 57,
   "id": "94a9f0da",
   "metadata": {},
   "outputs": [
    {
     "name": "stdout",
     "output_type": "stream",
     "text": [
      "Matriz de Confusión:\n",
      "[[  0   0   0   0   1   0   0   0]\n",
      " [  0   0   0   0  48   0   0   0]\n",
      " [  0   0   0   0  97   0   0   0]\n",
      " [  0   0   2   0  41   0   2   0]\n",
      " [  0   0   0   0 459   0   0   0]\n",
      " [  0   0   0   0   4  15   0   0]\n",
      " [  0   0   0   0 114   0   0   0]\n",
      " [  0   0   0   0  27   0   0   0]]\n"
     ]
    }
   ],
   "source": [
    "print(\"Matriz de Confusión:\")\n",
    "print(confusion)"
   ]
  },
  {
   "cell_type": "code",
   "execution_count": 58,
   "id": "50924646",
   "metadata": {},
   "outputs": [],
   "source": [
    "from sklearn.preprocessing import LabelEncoder"
   ]
  },
  {
   "cell_type": "code",
   "execution_count": 59,
   "id": "7399df3b",
   "metadata": {},
   "outputs": [],
   "source": [
    "label_encoder = LabelEncoder()"
   ]
  },
  {
   "cell_type": "code",
   "execution_count": 60,
   "id": "117a8c41",
   "metadata": {},
   "outputs": [
    {
     "ename": "NameError",
     "evalue": "name 'train_labels' is not defined",
     "output_type": "error",
     "traceback": [
      "\u001b[1;31m---------------------------------------------------------------------------\u001b[0m",
      "\u001b[1;31mNameError\u001b[0m                                 Traceback (most recent call last)",
      "Cell \u001b[1;32mIn[60], line 1\u001b[0m\n\u001b[1;32m----> 1\u001b[0m y_true_encoded \u001b[38;5;241m=\u001b[39m label_encoder\u001b[38;5;241m.\u001b[39mfit_transform(train_labels)\n\u001b[0;32m      2\u001b[0m confusion \u001b[38;5;241m=\u001b[39m confusion_matrix(y_true_encoded, y_pred_classes)\n",
      "\u001b[1;31mNameError\u001b[0m: name 'train_labels' is not defined"
     ]
    }
   ],
   "source": [
    "y_true_encoded = label_encoder.fit_transform(train_labels)\n",
    "confusion = confusion_matrix(y_true_encoded, y_pred_classes)"
   ]
  },
  {
   "cell_type": "code",
   "execution_count": 61,
   "id": "1f7edcfb",
   "metadata": {},
   "outputs": [],
   "source": [
    "train_dir = '/Users/jekad/OneDrive/Documents/Practica Prueba/train'"
   ]
  },
  {
   "cell_type": "code",
   "execution_count": 62,
   "id": "de89156e",
   "metadata": {},
   "outputs": [],
   "source": [
    "# Lista para almacenar las imágenes de prueba\n",
    "train_images = []\n",
    "# Lista para almacenar las etiquetas de prueba\n",
    "train_labels = []\n",
    "img_width = 64\n",
    "img_height = 64"
   ]
  },
  {
   "cell_type": "code",
   "execution_count": 63,
   "id": "89123338",
   "metadata": {},
   "outputs": [],
   "source": [
    "label_encoder = LabelEncoder()"
   ]
  },
  {
   "cell_type": "code",
   "execution_count": 64,
   "id": "4c54d637",
   "metadata": {},
   "outputs": [
    {
     "ename": "ValueError",
     "evalue": "Found input variables with inconsistent numbers of samples: [0, 810]",
     "output_type": "error",
     "traceback": [
      "\u001b[1;31m---------------------------------------------------------------------------\u001b[0m",
      "\u001b[1;31mValueError\u001b[0m                                Traceback (most recent call last)",
      "Cell \u001b[1;32mIn[64], line 2\u001b[0m\n\u001b[0;32m      1\u001b[0m y_true_encoded \u001b[38;5;241m=\u001b[39m label_encoder\u001b[38;5;241m.\u001b[39mfit_transform(train_labels)\n\u001b[1;32m----> 2\u001b[0m confusion \u001b[38;5;241m=\u001b[39m confusion_matrix(y_true_encoded, y_pred_classes)\n",
      "File \u001b[1;32m~\\anaconda3\\Lib\\site-packages\\sklearn\\utils\\_param_validation.py:211\u001b[0m, in \u001b[0;36mvalidate_params.<locals>.decorator.<locals>.wrapper\u001b[1;34m(*args, **kwargs)\u001b[0m\n\u001b[0;32m    205\u001b[0m \u001b[38;5;28;01mtry\u001b[39;00m:\n\u001b[0;32m    206\u001b[0m     \u001b[38;5;28;01mwith\u001b[39;00m config_context(\n\u001b[0;32m    207\u001b[0m         skip_parameter_validation\u001b[38;5;241m=\u001b[39m(\n\u001b[0;32m    208\u001b[0m             prefer_skip_nested_validation \u001b[38;5;129;01mor\u001b[39;00m global_skip_validation\n\u001b[0;32m    209\u001b[0m         )\n\u001b[0;32m    210\u001b[0m     ):\n\u001b[1;32m--> 211\u001b[0m         \u001b[38;5;28;01mreturn\u001b[39;00m func(\u001b[38;5;241m*\u001b[39margs, \u001b[38;5;241m*\u001b[39m\u001b[38;5;241m*\u001b[39mkwargs)\n\u001b[0;32m    212\u001b[0m \u001b[38;5;28;01mexcept\u001b[39;00m InvalidParameterError \u001b[38;5;28;01mas\u001b[39;00m e:\n\u001b[0;32m    213\u001b[0m     \u001b[38;5;66;03m# When the function is just a wrapper around an estimator, we allow\u001b[39;00m\n\u001b[0;32m    214\u001b[0m     \u001b[38;5;66;03m# the function to delegate validation to the estimator, but we replace\u001b[39;00m\n\u001b[0;32m    215\u001b[0m     \u001b[38;5;66;03m# the name of the estimator by the name of the function in the error\u001b[39;00m\n\u001b[0;32m    216\u001b[0m     \u001b[38;5;66;03m# message to avoid confusion.\u001b[39;00m\n\u001b[0;32m    217\u001b[0m     msg \u001b[38;5;241m=\u001b[39m re\u001b[38;5;241m.\u001b[39msub(\n\u001b[0;32m    218\u001b[0m         \u001b[38;5;124mr\u001b[39m\u001b[38;5;124m\"\u001b[39m\u001b[38;5;124mparameter of \u001b[39m\u001b[38;5;124m\\\u001b[39m\u001b[38;5;124mw+ must be\u001b[39m\u001b[38;5;124m\"\u001b[39m,\n\u001b[0;32m    219\u001b[0m         \u001b[38;5;124mf\u001b[39m\u001b[38;5;124m\"\u001b[39m\u001b[38;5;124mparameter of \u001b[39m\u001b[38;5;132;01m{\u001b[39;00mfunc\u001b[38;5;241m.\u001b[39m\u001b[38;5;18m__qualname__\u001b[39m\u001b[38;5;132;01m}\u001b[39;00m\u001b[38;5;124m must be\u001b[39m\u001b[38;5;124m\"\u001b[39m,\n\u001b[0;32m    220\u001b[0m         \u001b[38;5;28mstr\u001b[39m(e),\n\u001b[0;32m    221\u001b[0m     )\n",
      "File \u001b[1;32m~\\anaconda3\\Lib\\site-packages\\sklearn\\metrics\\_classification.py:326\u001b[0m, in \u001b[0;36mconfusion_matrix\u001b[1;34m(y_true, y_pred, labels, sample_weight, normalize)\u001b[0m\n\u001b[0;32m    231\u001b[0m \u001b[38;5;129m@validate_params\u001b[39m(\n\u001b[0;32m    232\u001b[0m     {\n\u001b[0;32m    233\u001b[0m         \u001b[38;5;124m\"\u001b[39m\u001b[38;5;124my_true\u001b[39m\u001b[38;5;124m\"\u001b[39m: [\u001b[38;5;124m\"\u001b[39m\u001b[38;5;124marray-like\u001b[39m\u001b[38;5;124m\"\u001b[39m],\n\u001b[1;32m   (...)\u001b[0m\n\u001b[0;32m    242\u001b[0m     y_true, y_pred, \u001b[38;5;241m*\u001b[39m, labels\u001b[38;5;241m=\u001b[39m\u001b[38;5;28;01mNone\u001b[39;00m, sample_weight\u001b[38;5;241m=\u001b[39m\u001b[38;5;28;01mNone\u001b[39;00m, normalize\u001b[38;5;241m=\u001b[39m\u001b[38;5;28;01mNone\u001b[39;00m\n\u001b[0;32m    243\u001b[0m ):\n\u001b[0;32m    244\u001b[0m \u001b[38;5;250m    \u001b[39m\u001b[38;5;124;03m\"\"\"Compute confusion matrix to evaluate the accuracy of a classification.\u001b[39;00m\n\u001b[0;32m    245\u001b[0m \n\u001b[0;32m    246\u001b[0m \u001b[38;5;124;03m    By definition a confusion matrix :math:`C` is such that :math:`C_{i, j}`\u001b[39;00m\n\u001b[1;32m   (...)\u001b[0m\n\u001b[0;32m    324\u001b[0m \u001b[38;5;124;03m    (0, 2, 1, 1)\u001b[39;00m\n\u001b[0;32m    325\u001b[0m \u001b[38;5;124;03m    \"\"\"\u001b[39;00m\n\u001b[1;32m--> 326\u001b[0m     y_type, y_true, y_pred \u001b[38;5;241m=\u001b[39m _check_targets(y_true, y_pred)\n\u001b[0;32m    327\u001b[0m     \u001b[38;5;28;01mif\u001b[39;00m y_type \u001b[38;5;129;01mnot\u001b[39;00m \u001b[38;5;129;01min\u001b[39;00m (\u001b[38;5;124m\"\u001b[39m\u001b[38;5;124mbinary\u001b[39m\u001b[38;5;124m\"\u001b[39m, \u001b[38;5;124m\"\u001b[39m\u001b[38;5;124mmulticlass\u001b[39m\u001b[38;5;124m\"\u001b[39m):\n\u001b[0;32m    328\u001b[0m         \u001b[38;5;28;01mraise\u001b[39;00m \u001b[38;5;167;01mValueError\u001b[39;00m(\u001b[38;5;124m\"\u001b[39m\u001b[38;5;132;01m%s\u001b[39;00m\u001b[38;5;124m is not supported\u001b[39m\u001b[38;5;124m\"\u001b[39m \u001b[38;5;241m%\u001b[39m y_type)\n",
      "File \u001b[1;32m~\\anaconda3\\Lib\\site-packages\\sklearn\\metrics\\_classification.py:84\u001b[0m, in \u001b[0;36m_check_targets\u001b[1;34m(y_true, y_pred)\u001b[0m\n\u001b[0;32m     57\u001b[0m \u001b[38;5;28;01mdef\u001b[39;00m \u001b[38;5;21m_check_targets\u001b[39m(y_true, y_pred):\n\u001b[0;32m     58\u001b[0m \u001b[38;5;250m    \u001b[39m\u001b[38;5;124;03m\"\"\"Check that y_true and y_pred belong to the same classification task.\u001b[39;00m\n\u001b[0;32m     59\u001b[0m \n\u001b[0;32m     60\u001b[0m \u001b[38;5;124;03m    This converts multiclass or binary types to a common shape, and raises a\u001b[39;00m\n\u001b[1;32m   (...)\u001b[0m\n\u001b[0;32m     82\u001b[0m \u001b[38;5;124;03m    y_pred : array or indicator matrix\u001b[39;00m\n\u001b[0;32m     83\u001b[0m \u001b[38;5;124;03m    \"\"\"\u001b[39;00m\n\u001b[1;32m---> 84\u001b[0m     check_consistent_length(y_true, y_pred)\n\u001b[0;32m     85\u001b[0m     type_true \u001b[38;5;241m=\u001b[39m type_of_target(y_true, input_name\u001b[38;5;241m=\u001b[39m\u001b[38;5;124m\"\u001b[39m\u001b[38;5;124my_true\u001b[39m\u001b[38;5;124m\"\u001b[39m)\n\u001b[0;32m     86\u001b[0m     type_pred \u001b[38;5;241m=\u001b[39m type_of_target(y_pred, input_name\u001b[38;5;241m=\u001b[39m\u001b[38;5;124m\"\u001b[39m\u001b[38;5;124my_pred\u001b[39m\u001b[38;5;124m\"\u001b[39m)\n",
      "File \u001b[1;32m~\\anaconda3\\Lib\\site-packages\\sklearn\\utils\\validation.py:409\u001b[0m, in \u001b[0;36mcheck_consistent_length\u001b[1;34m(*arrays)\u001b[0m\n\u001b[0;32m    407\u001b[0m uniques \u001b[38;5;241m=\u001b[39m np\u001b[38;5;241m.\u001b[39munique(lengths)\n\u001b[0;32m    408\u001b[0m \u001b[38;5;28;01mif\u001b[39;00m \u001b[38;5;28mlen\u001b[39m(uniques) \u001b[38;5;241m>\u001b[39m \u001b[38;5;241m1\u001b[39m:\n\u001b[1;32m--> 409\u001b[0m     \u001b[38;5;28;01mraise\u001b[39;00m \u001b[38;5;167;01mValueError\u001b[39;00m(\n\u001b[0;32m    410\u001b[0m         \u001b[38;5;124m\"\u001b[39m\u001b[38;5;124mFound input variables with inconsistent numbers of samples: \u001b[39m\u001b[38;5;132;01m%r\u001b[39;00m\u001b[38;5;124m\"\u001b[39m\n\u001b[0;32m    411\u001b[0m         \u001b[38;5;241m%\u001b[39m [\u001b[38;5;28mint\u001b[39m(l) \u001b[38;5;28;01mfor\u001b[39;00m l \u001b[38;5;129;01min\u001b[39;00m lengths]\n\u001b[0;32m    412\u001b[0m     )\n",
      "\u001b[1;31mValueError\u001b[0m: Found input variables with inconsistent numbers of samples: [0, 810]"
     ]
    }
   ],
   "source": [
    "y_true_encoded = label_encoder.fit_transform(train_labels)\n",
    "confusion = confusion_matrix(y_true_encoded, y_pred_classes)"
   ]
  },
  {
   "cell_type": "code",
   "execution_count": 65,
   "id": "dc6d2684",
   "metadata": {},
   "outputs": [
    {
     "ename": "AttributeError",
     "evalue": "'numpy.ndarray' object has no attribute 'append'",
     "output_type": "error",
     "traceback": [
      "\u001b[1;31m---------------------------------------------------------------------------\u001b[0m",
      "\u001b[1;31mAttributeError\u001b[0m                            Traceback (most recent call last)",
      "Cell \u001b[1;32mIn[65], line 10\u001b[0m\n\u001b[0;32m      8\u001b[0m image \u001b[38;5;241m=\u001b[39m image\u001b[38;5;241m.\u001b[39mresize((img_width, img_height))\n\u001b[0;32m      9\u001b[0m \u001b[38;5;66;03m# Añade la imagen a la lista de imágenes de prueba\u001b[39;00m\n\u001b[1;32m---> 10\u001b[0m test_images\u001b[38;5;241m.\u001b[39mappend(np\u001b[38;5;241m.\u001b[39marray(image))\n\u001b[0;32m     11\u001b[0m \u001b[38;5;66;03m# Añade la etiqueta correspondiente (puedes ajustar esto según tu estructura de directorios)\u001b[39;00m\n\u001b[0;32m     12\u001b[0m label \u001b[38;5;241m=\u001b[39m root\u001b[38;5;241m.\u001b[39msplit(os\u001b[38;5;241m.\u001b[39mpath\u001b[38;5;241m.\u001b[39msep)[\u001b[38;5;241m-\u001b[39m\u001b[38;5;241m1\u001b[39m]  \u001b[38;5;66;03m# Suponiendo que la etiqueta está en el nombre del directorio\u001b[39;00m\n",
      "\u001b[1;31mAttributeError\u001b[0m: 'numpy.ndarray' object has no attribute 'append'"
     ]
    }
   ],
   "source": [
    "for root, dirs, files in os.walk(train_dir):\n",
    "    for file in files:\n",
    "        # Verifica si el archivo es una imagen (puedes ajustar esta comprobación según tu formato de imagen)\n",
    "        if file.endswith(('.png', '.jpg', '.jpeg')):\n",
    "            # Carga la imagen usando PIL\n",
    "            image = Image.open(os.path.join(root, file))\n",
    "            # Redimensiona la imagen a las dimensiones esperadas por tu modelo\n",
    "            image = image.resize((img_width, img_height))\n",
    "            # Añade la imagen a la lista de imágenes de prueba\n",
    "            test_images.append(np.array(image))\n",
    "            # Añade la etiqueta correspondiente (puedes ajustar esto según tu estructura de directorios)\n",
    "            label = root.split(os.path.sep)[-1]  # Suponiendo que la etiqueta está en el nombre del directorio\n",
    "            test_labels.append(label)"
   ]
  },
  {
   "cell_type": "code",
   "execution_count": 66,
   "id": "e1979f88",
   "metadata": {},
   "outputs": [
    {
     "ename": "AttributeError",
     "evalue": "'numpy.ndarray' object has no attribute 'append'",
     "output_type": "error",
     "traceback": [
      "\u001b[1;31m---------------------------------------------------------------------------\u001b[0m",
      "\u001b[1;31mAttributeError\u001b[0m                            Traceback (most recent call last)",
      "Cell \u001b[1;32mIn[66], line 13\u001b[0m\n\u001b[0;32m     11\u001b[0m \u001b[38;5;66;03m# Añade la etiqueta correspondiente (puedes ajustar esto según tu estructura de directorios)\u001b[39;00m\n\u001b[0;32m     12\u001b[0m label \u001b[38;5;241m=\u001b[39m root\u001b[38;5;241m.\u001b[39msplit(os\u001b[38;5;241m.\u001b[39mpath\u001b[38;5;241m.\u001b[39msep)[\u001b[38;5;241m-\u001b[39m\u001b[38;5;241m1\u001b[39m]  \u001b[38;5;66;03m# Suponiendo que la etiqueta está en el nombre del directorio\u001b[39;00m\n\u001b[1;32m---> 13\u001b[0m test_labels\u001b[38;5;241m.\u001b[39mappend(label)\n",
      "\u001b[1;31mAttributeError\u001b[0m: 'numpy.ndarray' object has no attribute 'append'"
     ]
    }
   ],
   "source": [
    "for root, dirs, files in os.walk(train_dir):\n",
    "    for file in files:\n",
    "        # Verifica si el archivo es una imagen (puedes ajustar esta comprobación según tu formato de imagen)\n",
    "        if file.endswith(('.png', '.jpg', '.jpeg')):\n",
    "            # Carga la imagen usando PIL\n",
    "            image = Image.open(os.path.join(root, file))\n",
    "            # Redimensiona la imagen a las dimensiones esperadas por tu modelo\n",
    "            image = image.resize((img_width, img_height))\n",
    "            # Añade la imagen a la lista de imágenes de prueba\n",
    "            train_images.append(np.array(image))\n",
    "            # Añade la etiqueta correspondiente (puedes ajustar esto según tu estructura de directorios)\n",
    "            label = root.split(os.path.sep)[-1]  # Suponiendo que la etiqueta está en el nombre del directorio\n",
    "            test_labels.append(label)"
   ]
  },
  {
   "cell_type": "code",
   "execution_count": 67,
   "id": "0afec02b",
   "metadata": {},
   "outputs": [],
   "source": [
    "import os\n",
    "from PIL import Image\n",
    "import numpy as np"
   ]
  },
  {
   "cell_type": "code",
   "execution_count": 68,
   "id": "bf9a00fa",
   "metadata": {},
   "outputs": [],
   "source": [
    "img_width, img_height = 64, 64"
   ]
  },
  {
   "cell_type": "code",
   "execution_count": 69,
   "id": "422b6e8d",
   "metadata": {},
   "outputs": [],
   "source": [
    "train_images = []\n",
    "train_labels_list = []"
   ]
  },
  {
   "cell_type": "code",
   "execution_count": 70,
   "id": "005b854d",
   "metadata": {},
   "outputs": [],
   "source": [
    "train_dir = '/Users/jekad/OneDrive/Documents/Practica Prueba/train'"
   ]
  },
  {
   "cell_type": "code",
   "execution_count": 71,
   "id": "54cefc5a",
   "metadata": {},
   "outputs": [
    {
     "ename": "UnidentifiedImageError",
     "evalue": "cannot identify image file '/Users/jekad/OneDrive/Documents/Practica Prueba/train\\\\.DS_Store'",
     "output_type": "error",
     "traceback": [
      "\u001b[1;31m---------------------------------------------------------------------------\u001b[0m",
      "\u001b[1;31mUnidentifiedImageError\u001b[0m                    Traceback (most recent call last)",
      "Cell \u001b[1;32mIn[71], line 4\u001b[0m\n\u001b[0;32m      1\u001b[0m \u001b[38;5;28;01mfor\u001b[39;00m root, dirs, files \u001b[38;5;129;01min\u001b[39;00m os\u001b[38;5;241m.\u001b[39mwalk(train_dir):\n\u001b[0;32m      2\u001b[0m     \u001b[38;5;28;01mfor\u001b[39;00m file \u001b[38;5;129;01min\u001b[39;00m files:\n\u001b[0;32m      3\u001b[0m         \u001b[38;5;66;03m# Lee la imagen\u001b[39;00m\n\u001b[1;32m----> 4\u001b[0m         image \u001b[38;5;241m=\u001b[39m Image\u001b[38;5;241m.\u001b[39mopen(os\u001b[38;5;241m.\u001b[39mpath\u001b[38;5;241m.\u001b[39mjoin(root, file))\n\u001b[0;32m      5\u001b[0m         \u001b[38;5;66;03m# Redimensiona la imagen\u001b[39;00m\n\u001b[0;32m      6\u001b[0m         image \u001b[38;5;241m=\u001b[39m image\u001b[38;5;241m.\u001b[39mresize((img_width, img_height))\n",
      "File \u001b[1;32m~\\anaconda3\\Lib\\site-packages\\PIL\\Image.py:3283\u001b[0m, in \u001b[0;36mopen\u001b[1;34m(fp, mode, formats)\u001b[0m\n\u001b[0;32m   3281\u001b[0m     warnings\u001b[38;5;241m.\u001b[39mwarn(message)\n\u001b[0;32m   3282\u001b[0m msg \u001b[38;5;241m=\u001b[39m \u001b[38;5;124m\"\u001b[39m\u001b[38;5;124mcannot identify image file \u001b[39m\u001b[38;5;132;01m%r\u001b[39;00m\u001b[38;5;124m\"\u001b[39m \u001b[38;5;241m%\u001b[39m (filename \u001b[38;5;28;01mif\u001b[39;00m filename \u001b[38;5;28;01melse\u001b[39;00m fp)\n\u001b[1;32m-> 3283\u001b[0m \u001b[38;5;28;01mraise\u001b[39;00m UnidentifiedImageError(msg)\n",
      "\u001b[1;31mUnidentifiedImageError\u001b[0m: cannot identify image file '/Users/jekad/OneDrive/Documents/Practica Prueba/train\\\\.DS_Store'"
     ]
    }
   ],
   "source": [
    "for root, dirs, files in os.walk(train_dir):\n",
    "    for file in files:\n",
    "        # Lee la imagen\n",
    "        image = Image.open(os.path.join(root, file))\n",
    "        # Redimensiona la imagen\n",
    "        image = image.resize((img_width, img_height))\n",
    "        # Convierte la imagen a un array NumPy y normaliza los valores de píxeles\n",
    "        image_array = np.array(image) / 255.0\n",
    "        # Añade la imagen a la lista de imágenes de entrenamiento\n",
    "        train_images.append(image_array)\n",
    "        # Añade la etiqueta correspondiente (puedes ajustar esto según tu estructura de directorios)\n",
    "        label = root.split(os.path.sep)[-1]  # Suponiendo que la etiqueta está en el nombre del directorio\n",
    "        train_labels_list.append(label)"
   ]
  },
  {
   "cell_type": "code",
   "execution_count": 72,
   "id": "ed1f0569",
   "metadata": {},
   "outputs": [],
   "source": [
    "import os\n",
    "from PIL import Image\n",
    "import numpy as np"
   ]
  },
  {
   "cell_type": "code",
   "execution_count": 73,
   "id": "a3bc2ab7",
   "metadata": {},
   "outputs": [],
   "source": [
    "img_width, img_height = 64, 64"
   ]
  },
  {
   "cell_type": "code",
   "execution_count": 74,
   "id": "6a4a1f52",
   "metadata": {},
   "outputs": [],
   "source": [
    "train_images = []\n",
    "train_labels_list = []"
   ]
  },
  {
   "cell_type": "code",
   "execution_count": 75,
   "id": "9ec75655",
   "metadata": {},
   "outputs": [],
   "source": [
    "train_dir = '/Users/jekad/OneDrive/Documents/Practica Prueba/train'"
   ]
  },
  {
   "cell_type": "code",
   "execution_count": 76,
   "id": "aa72e0f9",
   "metadata": {},
   "outputs": [],
   "source": [
    "for root, dirs, files in os.walk(train_dir):\n",
    "    for file in files:\n",
    "        # Comprueba si el archivo es una imagen\n",
    "        if file.lower().endswith(('.png', '.jpg', '.jpeg', '.gif', '.bmp')):\n",
    "            # Lee la imagen\n",
    "            image = Image.open(os.path.join(root, file))\n",
    "            # Redimensiona la imagen\n",
    "            image = image.resize((img_width, img_height))\n",
    "            # Convierte la imagen a un array NumPy y normaliza los valores de píxeles\n",
    "            image_array = np.array(image) / 255.0\n",
    "            # Añade la imagen a la lista de imágenes de entrenamiento\n",
    "            train_images.append(image_array)\n",
    "            # Añade la etiqueta correspondiente (puedes ajustar esto según tu estructura de directorios)\n",
    "            label = root.split(os.path.sep)[-1]  # Suponiendo que la etiqueta está en el nombre del directorio\n",
    "            train_labels_list.append(label)"
   ]
  },
  {
   "cell_type": "code",
   "execution_count": 77,
   "id": "9d4a0b31",
   "metadata": {},
   "outputs": [],
   "source": [
    "# Convierte las listas en arrays NumPy\n",
    "train_images = np.array(train_images)\n",
    "train_labels = np.array(train_labels_list)"
   ]
  },
  {
   "cell_type": "code",
   "execution_count": 78,
   "id": "8ab0c271",
   "metadata": {},
   "outputs": [],
   "source": [
    "from sklearn.preprocessing import LabelEncoder"
   ]
  },
  {
   "cell_type": "code",
   "execution_count": 79,
   "id": "6290121e",
   "metadata": {},
   "outputs": [],
   "source": [
    "label_encoder = LabelEncoder()\n",
    "train_labels_encoded = label_encoder.fit_transform(train_labels)"
   ]
  },
  {
   "cell_type": "code",
   "execution_count": 80,
   "id": "09ebbb8a",
   "metadata": {},
   "outputs": [],
   "source": [
    "from sklearn.model_selection import train_test_split"
   ]
  },
  {
   "cell_type": "code",
   "execution_count": 81,
   "id": "7ca34f50",
   "metadata": {},
   "outputs": [],
   "source": [
    "X_train, X_val, y_train, y_val = train_test_split(train_images, train_labels_encoded, test_size=0.2, random_state=42)"
   ]
  },
  {
   "cell_type": "code",
   "execution_count": 82,
   "id": "7d2ad916",
   "metadata": {},
   "outputs": [],
   "source": [
    "model.compile(optimizer='adam',\n",
    "              loss='sparse_categorical_crossentropy',  # Para etiquetas codificadas numéricamente\n",
    "              metrics=['accuracy'])"
   ]
  },
  {
   "cell_type": "code",
   "execution_count": 83,
   "id": "d4c0ba87",
   "metadata": {},
   "outputs": [
    {
     "name": "stdout",
     "output_type": "stream",
     "text": [
      "Epoch 1/8\n",
      "41/41 [==============================] - 4s 77ms/step - loss: 1.5723 - accuracy: 0.5077 - val_loss: 1.0113 - val_accuracy: 0.6422\n",
      "Epoch 2/8\n",
      "41/41 [==============================] - 3s 79ms/step - loss: 0.9610 - accuracy: 0.6838 - val_loss: 0.8357 - val_accuracy: 0.6606\n",
      "Epoch 3/8\n",
      "41/41 [==============================] - 3s 76ms/step - loss: 0.7459 - accuracy: 0.7397 - val_loss: 0.7377 - val_accuracy: 0.6942\n",
      "Epoch 4/8\n",
      "41/41 [==============================] - 3s 78ms/step - loss: 0.6050 - accuracy: 0.7764 - val_loss: 0.4745 - val_accuracy: 0.8043\n",
      "Epoch 5/8\n",
      "41/41 [==============================] - 3s 76ms/step - loss: 0.5263 - accuracy: 0.8116 - val_loss: 0.6936 - val_accuracy: 0.7278\n",
      "Epoch 6/8\n",
      "41/41 [==============================] - 3s 72ms/step - loss: 0.3871 - accuracy: 0.8622 - val_loss: 0.3302 - val_accuracy: 0.8960\n",
      "Epoch 7/8\n",
      "41/41 [==============================] - 3s 75ms/step - loss: 0.3490 - accuracy: 0.8744 - val_loss: 0.2984 - val_accuracy: 0.8838\n",
      "Epoch 8/8\n",
      "41/41 [==============================] - 3s 82ms/step - loss: 0.2825 - accuracy: 0.9058 - val_loss: 0.2898 - val_accuracy: 0.8869\n"
     ]
    }
   ],
   "source": [
    "history = model.fit(X_train, y_train, epochs=8, validation_data=(X_val, y_val))"
   ]
  },
  {
   "cell_type": "code",
   "execution_count": 84,
   "id": "da6142aa",
   "metadata": {},
   "outputs": [
    {
     "name": "stdout",
     "output_type": "stream",
     "text": [
      "26/26 [==============================] - 0s 15ms/step\n"
     ]
    }
   ],
   "source": [
    "y_pred = model.predict(test_images)"
   ]
  },
  {
   "cell_type": "code",
   "execution_count": 85,
   "id": "9cf9ce0e",
   "metadata": {},
   "outputs": [],
   "source": [
    "y_pred_labels = label_encoder.inverse_transform(np.argmax(y_pred, axis=1))"
   ]
  },
  {
   "cell_type": "code",
   "execution_count": 86,
   "id": "706a7896",
   "metadata": {},
   "outputs": [],
   "source": [
    "from sklearn.metrics import confusion_matrix"
   ]
  },
  {
   "cell_type": "code",
   "execution_count": 87,
   "id": "7ebcccf9",
   "metadata": {},
   "outputs": [],
   "source": [
    "confusion = confusion_matrix(test_labels, y_pred_labels)"
   ]
  },
  {
   "cell_type": "code",
   "execution_count": 88,
   "id": "55a130bd",
   "metadata": {},
   "outputs": [
    {
     "name": "stdout",
     "output_type": "stream",
     "text": [
      "[[  0   0   0   0   1   0   0   0]\n",
      " [  0  14  11   0  20   0   0   3]\n",
      " [  0   0  12   0  54   0   0  31]\n",
      " [  0  24   9   6   6   0   0   0]\n",
      " [  0   1   0   0 400   0   0  58]\n",
      " [  0   0   0   0   3  16   0   0]\n",
      " [  0   0  15   0  88   1   6   4]\n",
      " [  0   0   0   0   3   0   0  24]]\n"
     ]
    }
   ],
   "source": [
    "print(confusion)"
   ]
  },
  {
   "cell_type": "code",
   "execution_count": 89,
   "id": "09600540",
   "metadata": {},
   "outputs": [],
   "source": [
    "from tensorflow.keras.preprocessing.image import ImageDataGenerator"
   ]
  },
  {
   "cell_type": "code",
   "execution_count": 90,
   "id": "3e253791",
   "metadata": {},
   "outputs": [],
   "source": [
    "datagen = ImageDataGenerator(\n",
    "    rescale=1./255,        # Normalizar los valores de píxeles al rango [0, 1]\n",
    "    rotation_range=40,     # Rango de rotación aleatoria\n",
    "    width_shift_range=0.2, # Desplazamiento horizontal aleatorio\n",
    "    height_shift_range=0.2,# Desplazamiento vertical aleatorio\n",
    "    shear_range=0.2,       # Cizallamiento aleatorio\n",
    "    zoom_range=0.2,        # Zoom aleatorio\n",
    "    horizontal_flip=True,  # Volteo horizontal aleatorio\n",
    "    fill_mode='nearest'    # Estrategia de relleno\n",
    ")"
   ]
  },
  {
   "cell_type": "code",
   "execution_count": 91,
   "id": "12f664da",
   "metadata": {},
   "outputs": [
    {
     "ename": "NameError",
     "evalue": "name 'load_image' is not defined",
     "output_type": "error",
     "traceback": [
      "\u001b[1;31m---------------------------------------------------------------------------\u001b[0m",
      "\u001b[1;31mNameError\u001b[0m                                 Traceback (most recent call last)",
      "Cell \u001b[1;32mIn[91], line 2\u001b[0m\n\u001b[0;32m      1\u001b[0m \u001b[38;5;66;03m# Aplicar el preprocesamiento a una imagen\u001b[39;00m\n\u001b[1;32m----> 2\u001b[0m img \u001b[38;5;241m=\u001b[39m load_image(\u001b[38;5;124m'\u001b[39m\u001b[38;5;124mpath_to_image.jpg\u001b[39m\u001b[38;5;124m'\u001b[39m)\n\u001b[0;32m      3\u001b[0m img \u001b[38;5;241m=\u001b[39m img\u001b[38;5;241m.\u001b[39mreshape((\u001b[38;5;241m1\u001b[39m,) \u001b[38;5;241m+\u001b[39m img\u001b[38;5;241m.\u001b[39mshape)  \u001b[38;5;66;03m# Añadir dimensión extra para el lote\u001b[39;00m\n\u001b[0;32m      4\u001b[0m i \u001b[38;5;241m=\u001b[39m \u001b[38;5;241m0\u001b[39m\n",
      "\u001b[1;31mNameError\u001b[0m: name 'load_image' is not defined"
     ]
    }
   ],
   "source": [
    "# Aplicar el preprocesamiento a una imagen\n",
    "img = load_image('path_to_image.jpg')\n",
    "img = img.reshape((1,) + img.shape)  # Añadir dimensión extra para el lote\n",
    "i = 0\n",
    "for batch in datagen.flow(img, batch_size=1):\n",
    "    plt.figure(i)\n",
    "    imgplot = plt.imshow(image.array_to_img(batch[0]))\n",
    "    i += 1\n",
    "    if i % 4 == 0:  # Mostrar 4 imágenes procesadas\n",
    "        break\n",
    "\n",
    "plt.show()"
   ]
  },
  {
   "cell_type": "code",
   "execution_count": 92,
   "id": "b984f4c4",
   "metadata": {},
   "outputs": [],
   "source": [
    "from PIL import Image"
   ]
  },
  {
   "cell_type": "code",
   "execution_count": 94,
   "id": "6bf35185",
   "metadata": {},
   "outputs": [],
   "source": [
    "image = Image.open('train/CLASS_02/10-CAPTURE_20220531_103042_241.png')"
   ]
  },
  {
   "cell_type": "code",
   "execution_count": 97,
   "id": "597248d1",
   "metadata": {},
   "outputs": [],
   "source": [
    "new_width = 64\n",
    "new_height = 64"
   ]
  },
  {
   "cell_type": "code",
   "execution_count": 98,
   "id": "fe76b3ea",
   "metadata": {},
   "outputs": [],
   "source": [
    "image = image.resize((new_width, new_height))"
   ]
  },
  {
   "cell_type": "code",
   "execution_count": 99,
   "id": "50ec9e4b",
   "metadata": {},
   "outputs": [],
   "source": [
    "image = tf.keras.preprocessing.image.img_to_array(image)"
   ]
  },
  {
   "cell_type": "code",
   "execution_count": 100,
   "id": "04d0b68f",
   "metadata": {},
   "outputs": [],
   "source": [
    "image /= 255.0"
   ]
  },
  {
   "cell_type": "code",
   "execution_count": 101,
   "id": "0337fa42",
   "metadata": {},
   "outputs": [],
   "source": [
    "image = image.reshape((1,) + image.shape)"
   ]
  },
  {
   "cell_type": "code",
   "execution_count": 102,
   "id": "e952b8e7",
   "metadata": {},
   "outputs": [
    {
     "ename": "NameError",
     "evalue": "name 'load_image' is not defined",
     "output_type": "error",
     "traceback": [
      "\u001b[1;31m---------------------------------------------------------------------------\u001b[0m",
      "\u001b[1;31mNameError\u001b[0m                                 Traceback (most recent call last)",
      "Cell \u001b[1;32mIn[102], line 1\u001b[0m\n\u001b[1;32m----> 1\u001b[0m img \u001b[38;5;241m=\u001b[39m load_image(\u001b[38;5;124m'\u001b[39m\u001b[38;5;124mpath_to_image.jpg\u001b[39m\u001b[38;5;124m'\u001b[39m)\n\u001b[0;32m      2\u001b[0m img \u001b[38;5;241m=\u001b[39m img\u001b[38;5;241m.\u001b[39mreshape((\u001b[38;5;241m1\u001b[39m,) \u001b[38;5;241m+\u001b[39m img\u001b[38;5;241m.\u001b[39mshape)  \u001b[38;5;66;03m# Añadir dimensión extra para el lote\u001b[39;00m\n\u001b[0;32m      3\u001b[0m i \u001b[38;5;241m=\u001b[39m \u001b[38;5;241m0\u001b[39m\n",
      "\u001b[1;31mNameError\u001b[0m: name 'load_image' is not defined"
     ]
    }
   ],
   "source": [
    "img = load_image('path_to_image.jpg')\n",
    "img = img.reshape((1,) + img.shape)  # Añadir dimensión extra para el lote\n",
    "i = 0\n",
    "for batch in datagen.flow(img, batch_size=1):\n",
    "    plt.figure(i)\n",
    "    imgplot = plt.imshow(image.array_to_img(batch[0]))\n",
    "    i += 1\n",
    "    if i % 4 == 0:  # Mostrar 4 imágenes procesadas\n",
    "        break\n",
    "\n",
    "plt.show()"
   ]
  },
  {
   "cell_type": "code",
   "execution_count": 103,
   "id": "a3dc9af9",
   "metadata": {},
   "outputs": [],
   "source": [
    "from tensorflow.keras.preprocessing.image import ImageDataGenerator\n",
    "import matplotlib.pyplot as plt"
   ]
  },
  {
   "cell_type": "code",
   "execution_count": 104,
   "id": "8a601aa3",
   "metadata": {},
   "outputs": [],
   "source": [
    "# Definir una función para cargar una imagen\n",
    "def load_image(image_path):\n",
    "    # Carga la imagen utilizando alguna biblioteca como PIL o OpenCV\n",
    "    # Asegúrate de redimensionar y preprocesar la imagen según sea necesario\n",
    "    # Devuelve la imagen cargada como un arreglo NumPy\n",
    "    pass"
   ]
  },
  {
   "cell_type": "code",
   "execution_count": 105,
   "id": "c5cb49ee",
   "metadata": {},
   "outputs": [],
   "source": [
    "img = load_image('test/CLASS_04/11-CAPTURE_20220420_111311_608.png')"
   ]
  },
  {
   "cell_type": "code",
   "execution_count": 106,
   "id": "ab40948e",
   "metadata": {},
   "outputs": [],
   "source": [
    "datagen = ImageDataGenerator(\n",
    "    rescale=1./255,        # Normalizar los valores de píxeles al rango [0, 1]\n",
    "    rotation_range=40,     # Rango de rotación aleatoria\n",
    "    width_shift_range=0.2, # Desplazamiento horizontal aleatorio\n",
    "    height_shift_range=0.2,# Desplazamiento vertical aleatorio\n",
    "    shear_range=0.2,       # Cizallamiento aleatorio\n",
    "    zoom_range=0.2,        # Zoom aleatorio\n",
    "    horizontal_flip=True,  # Volteo horizontal aleatorio\n",
    "    fill_mode='nearest'    # Estrategia de relleno\n",
    ")"
   ]
  },
  {
   "cell_type": "code",
   "execution_count": 107,
   "id": "9da98354",
   "metadata": {},
   "outputs": [
    {
     "ename": "AttributeError",
     "evalue": "'NoneType' object has no attribute 'reshape'",
     "output_type": "error",
     "traceback": [
      "\u001b[1;31m---------------------------------------------------------------------------\u001b[0m",
      "\u001b[1;31mAttributeError\u001b[0m                            Traceback (most recent call last)",
      "Cell \u001b[1;32mIn[107], line 2\u001b[0m\n\u001b[0;32m      1\u001b[0m \u001b[38;5;66;03m# Añadir dimensión extra para el lote\u001b[39;00m\n\u001b[1;32m----> 2\u001b[0m img \u001b[38;5;241m=\u001b[39m img\u001b[38;5;241m.\u001b[39mreshape((\u001b[38;5;241m1\u001b[39m,) \u001b[38;5;241m+\u001b[39m img\u001b[38;5;241m.\u001b[39mshape)\n",
      "\u001b[1;31mAttributeError\u001b[0m: 'NoneType' object has no attribute 'reshape'"
     ]
    }
   ],
   "source": [
    "# Añadir dimensión extra para el lote\n",
    "img = img.reshape((1,) + img.shape)\n"
   ]
  },
  {
   "cell_type": "code",
   "execution_count": 108,
   "id": "1704c9b2",
   "metadata": {},
   "outputs": [],
   "source": [
    "from PIL import Image\n",
    "import numpy as np"
   ]
  },
  {
   "cell_type": "code",
   "execution_count": 109,
   "id": "b4f4a561",
   "metadata": {},
   "outputs": [],
   "source": [
    "def load_image(image_path, target_size=(64, 64)):\n",
    "    try:\n",
    "        # Carga la imagen utilizando PIL (Pillow)\n",
    "        img = Image.open(image_path)\n",
    "        \n",
    "        # Redimensiona la imagen al tamaño objetivo (opcional)\n",
    "        img = img.resize(target_size)\n",
    "        \n",
    "        # Convierte la imagen a un arreglo NumPy y normaliza los valores de píxeles\n",
    "        img = np.array(img) / 255.0\n",
    "        \n",
    "        return img\n",
    "    except Exception as e:\n",
    "        print(f\"Error al cargar la imagen: {str(e)}\")\n",
    "        return None"
   ]
  },
  {
   "cell_type": "code",
   "execution_count": 110,
   "id": "acd657b0",
   "metadata": {},
   "outputs": [
    {
     "name": "stdout",
     "output_type": "stream",
     "text": [
      "Dimensiones de la imagen: (64, 64, 3)\n"
     ]
    }
   ],
   "source": [
    "image_path = 'test/CLASS_06/23-CAPTURE_20220420_234035_224.png'  # Reemplaza con la ruta de tu imagen\n",
    "img = load_image(image_path)\n",
    "if img is not None:\n",
    "    print(f\"Dimensiones de la imagen: {img.shape}\")"
   ]
  },
  {
   "cell_type": "code",
   "execution_count": 111,
   "id": "24cccdcb",
   "metadata": {},
   "outputs": [],
   "source": [
    "img = img.reshape((1,) + img.shape)"
   ]
  },
  {
   "cell_type": "code",
   "execution_count": 112,
   "id": "459a3e56",
   "metadata": {},
   "outputs": [
    {
     "ename": "AttributeError",
     "evalue": "'numpy.ndarray' object has no attribute 'array_to_img'",
     "output_type": "error",
     "traceback": [
      "\u001b[1;31m---------------------------------------------------------------------------\u001b[0m",
      "\u001b[1;31mAttributeError\u001b[0m                            Traceback (most recent call last)",
      "Cell \u001b[1;32mIn[112], line 4\u001b[0m\n\u001b[0;32m      2\u001b[0m \u001b[38;5;28;01mfor\u001b[39;00m batch \u001b[38;5;129;01min\u001b[39;00m datagen\u001b[38;5;241m.\u001b[39mflow(img, batch_size\u001b[38;5;241m=\u001b[39m\u001b[38;5;241m1\u001b[39m):\n\u001b[0;32m      3\u001b[0m     plt\u001b[38;5;241m.\u001b[39mfigure(i)\n\u001b[1;32m----> 4\u001b[0m     imgplot \u001b[38;5;241m=\u001b[39m plt\u001b[38;5;241m.\u001b[39mimshow(image\u001b[38;5;241m.\u001b[39marray_to_img(batch[\u001b[38;5;241m0\u001b[39m]))\n\u001b[0;32m      5\u001b[0m     i \u001b[38;5;241m+\u001b[39m\u001b[38;5;241m=\u001b[39m \u001b[38;5;241m1\u001b[39m\n\u001b[0;32m      6\u001b[0m     \u001b[38;5;28;01mif\u001b[39;00m i \u001b[38;5;241m%\u001b[39m \u001b[38;5;241m4\u001b[39m \u001b[38;5;241m==\u001b[39m \u001b[38;5;241m0\u001b[39m:  \u001b[38;5;66;03m# Mostrar 4 imágenes procesadas\u001b[39;00m\n",
      "\u001b[1;31mAttributeError\u001b[0m: 'numpy.ndarray' object has no attribute 'array_to_img'"
     ]
    },
    {
     "data": {
      "text/plain": [
       "<Figure size 640x480 with 0 Axes>"
      ]
     },
     "metadata": {},
     "output_type": "display_data"
    }
   ],
   "source": [
    "i = 0\n",
    "for batch in datagen.flow(img, batch_size=1):\n",
    "    plt.figure(i)\n",
    "    imgplot = plt.imshow(image.array_to_img(batch[0]))\n",
    "    i += 1\n",
    "    if i % 4 == 0:  # Mostrar 4 imágenes procesadas\n",
    "        break\n",
    "\n",
    "plt.show()"
   ]
  },
  {
   "cell_type": "code",
   "execution_count": 114,
   "id": "bcb05e9c",
   "metadata": {},
   "outputs": [],
   "source": [
    "from tensorflow.keras.preprocessing.image import ImageDataGenerator\n",
    "import matplotlib.pyplot as plt\n",
    "import numpy as np\n",
    "from PIL import Image"
   ]
  },
  {
   "cell_type": "code",
   "execution_count": 115,
   "id": "7443e733",
   "metadata": {},
   "outputs": [],
   "source": [
    "def load_image(image_path, target_size=(64, 64)):\n",
    "    try:\n",
    "        # Carga la imagen utilizando PIL (Pillow)\n",
    "        img = Image.open(image_path)\n",
    "        \n",
    "        # Redimensiona la imagen al tamaño objetivo (opcional)\n",
    "        img = img.resize(target_size)\n",
    "        \n",
    "        # Convierte la imagen a un arreglo NumPy y normaliza los valores de píxeles\n",
    "        img = np.array(img) / 255.0\n",
    "        \n",
    "        return img\n",
    "    except Exception as e:\n",
    "        print(f\"Error al cargar la imagen: {str(e)}\")\n",
    "        return None"
   ]
  },
  {
   "cell_type": "code",
   "execution_count": 116,
   "id": "7c8a80cd",
   "metadata": {},
   "outputs": [],
   "source": [
    "# Ruta de la imagen\n",
    "image_path = 'test/CLASS_05/05-CAPTURE_20220422_053944_468.png'"
   ]
  },
  {
   "cell_type": "code",
   "execution_count": 117,
   "id": "5ee67d6f",
   "metadata": {},
   "outputs": [],
   "source": [
    "# Cargar la imagen\n",
    "img = load_image(image_path)"
   ]
  },
  {
   "cell_type": "code",
   "execution_count": 118,
   "id": "3c4a24a4",
   "metadata": {},
   "outputs": [],
   "source": [
    "# Crear un generador de datos de imágenes con transformaciones de aumento de datos y normalización\n",
    "datagen = ImageDataGenerator(\n",
    "    rescale=1./255,        # Normalizar los valores de píxeles al rango [0, 1]\n",
    "    rotation_range=40,     # Rango de rotación aleatoria\n",
    "    width_shift_range=0.2, # Desplazamiento horizontal aleatorio\n",
    "    height_shift_range=0.2,# Desplazamiento vertical aleatorio\n",
    "    shear_range=0.2,       # Cizallamiento aleatorio\n",
    "    zoom_range=0.2,        # Zoom aleatorio\n",
    "    horizontal_flip=True,  # Volteo horizontal aleatorio\n",
    "    fill_mode='nearest'    # Estrategia de relleno\n",
    ")"
   ]
  },
  {
   "cell_type": "code",
   "execution_count": 119,
   "id": "02744b7b",
   "metadata": {},
   "outputs": [],
   "source": [
    "# Añadir dimensión extra para el lote\n",
    "img = img.reshape((1,) + img.shape)"
   ]
  },
  {
   "cell_type": "code",
   "execution_count": 120,
   "id": "ee96934b",
   "metadata": {},
   "outputs": [
    {
     "data": {
      "image/png": "[encoded data removed]",
      "text/plain": [
       "<Figure size 640x480 with 1 Axes>"
      ]
     },
     "metadata": {},
     "output_type": "display_data"
    },
    {
     "data": {
      "image/png": "[encoded data removed]",
      "text/plain": [
       "<Figure size 640x480 with 1 Axes>"
      ]
     },
     "metadata": {},
     "output_type": "display_data"
    },
    {
     "data": {
      "image/png": "[encoded data removed]",
      "text/plain": [
       "<Figure size 640x480 with 1 Axes>"
      ]
     },
     "metadata": {},
     "output_type": "display_data"
    },
    {
     "data": {
      "image/png": "[encoded data removed]",
      "text/plain": [
       "<Figure size 640x480 with 1 Axes>"
      ]
     },
     "metadata": {},
     "output_type": "display_data"
    }
   ],
   "source": [
    "# Mostrar las imágenes aumentadas\n",
    "i = 0\n",
    "for batch in datagen.flow(img, batch_size=1):\n",
    "    plt.figure(i)\n",
    "    imgplot = plt.imshow(np.squeeze(batch))  # Elimina la dimensión de lote para mostrar la imagen\n",
    "    i += 1\n",
    "    if i % 4 == 0:  # Mostrar 4 imágenes procesadas\n",
    "        break\n",
    "\n",
    "plt.show()"
   ]
  },
  {
   "cell_type": "code",
   "execution_count": 122,
   "id": "f4571f3f",
   "metadata": {},
   "outputs": [
    {
     "data": {
      "image/png": "[encoded data removed]",
      "text/plain": [
       "<Figure size 640x480 with 1 Axes>"
      ]
     },
     "metadata": {},
     "output_type": "display_data"
    },
    {
     "data": {
      "image/png": "[encoded data removed]",
      "text/plain": [
       "<Figure size 640x480 with 1 Axes>"
      ]
     },
     "metadata": {},
     "output_type": "display_data"
    },
    {
     "data": {
      "image/png": "[encoded data removed]",
      "text/plain": [
       "<Figure size 640x480 with 1 Axes>"
      ]
     },
     "metadata": {},
     "output_type": "display_data"
    },
    {
     "data": {
      "image/png": "[encoded data removed]",
      "text/plain": [
       "<Figure size 640x480 with 1 Axes>"
      ]
     },
     "metadata": {},
     "output_type": "display_data"
    }
   ],
   "source": [
    "from tensorflow.keras.preprocessing.image import ImageDataGenerator\n",
    "import matplotlib.pyplot as plt\n",
    "import numpy as np\n",
    "from PIL import Image\n",
    "\n",
    "# Función para cargar una imagen\n",
    "def load_image(image_path, target_size=(64, 64)):\n",
    "    try:\n",
    "        # Carga la imagen utilizando PIL (Pillow)\n",
    "        img = Image.open(image_path)\n",
    "        \n",
    "        # Redimensiona la imagen al tamaño objetivo (opcional)\n",
    "        img = img.resize(target_size)\n",
    "        \n",
    "        # Convierte la imagen a un arreglo NumPy y normaliza los valores de píxeles\n",
    "        img = np.array(img) / 255.0\n",
    "        \n",
    "        return img\n",
    "    except Exception as e:\n",
    "        print(f\"Error al cargar la imagen: {str(e)}\")\n",
    "        return None\n",
    "\n",
    "# Ruta de la imagen\n",
    "image_path = 'test/CLASS_05/05-CAPTURE_20220426_053617_430.png'  # Reemplaza con la ruta de tu imagen\n",
    "\n",
    "# Cargar la imagen\n",
    "img = load_image(image_path)\n",
    "\n",
    "# Crear un generador de datos de imágenes con transformaciones de aumento de datos y normalización\n",
    "datagen = ImageDataGenerator(\n",
    "    rescale=1./255,        # Normalizar los valores de píxeles al rango [0, 1]\n",
    "    rotation_range=40,     # Rango de rotación aleatoria\n",
    "    width_shift_range=0.2, # Desplazamiento horizontal aleatorio\n",
    "    height_shift_range=0.2,# Desplazamiento vertical aleatorio\n",
    "    shear_range=0.2,       # Cizallamiento aleatorio\n",
    "    zoom_range=0.2,        # Zoom aleatorio\n",
    "    horizontal_flip=True,  # Volteo horizontal aleatorio\n",
    "    fill_mode='nearest'    # Estrategia de relleno\n",
    ")\n",
    "\n",
    "# Añadir dimensión extra para el lote\n",
    "img = img.reshape((1,) + img.shape)\n",
    "\n",
    "# Mostrar las imágenes aumentadas\n",
    "i = 0\n",
    "for batch in datagen.flow(img, batch_size=1):\n",
    "    plt.figure(i)\n",
    "    imgplot = plt.imshow(np.clip(np.squeeze(batch), 0, 1))  # Ajusta los valores de píxeles en el rango [0, 1]\n",
    "    i += 1\n",
    "    if i % 4 == 0:  # Mostrar 4 imágenes procesadas\n",
    "        break\n",
    "\n",
    "plt.show()"
   ]
  },
  {
   "cell_type": "code",
   "execution_count": 123,
   "id": "02d86197",
   "metadata": {},
   "outputs": [
    {
     "data": {
      "image/png": "[encoded data removed]",
      "text/plain": [
       "<Figure size 640x480 with 1 Axes>"
      ]
     },
     "metadata": {},
     "output_type": "display_data"
    },
    {
     "data": {
      "image/png": "[encoded data removed]",
      "text/plain": [
       "<Figure size 640x480 with 1 Axes>"
      ]
     },
     "metadata": {},
     "output_type": "display_data"
    },
    {
     "data": {
      "image/png": "[encoded data removed]",
      "text/plain": [
       "<Figure size 640x480 with 1 Axes>"
      ]
     },
     "metadata": {},
     "output_type": "display_data"
    },
    {
     "data": {
      "image/png": "[encoded data removed]",
      "text/plain": [
       "<Figure size 640x480 with 1 Axes>"
      ]
     },
     "metadata": {},
     "output_type": "display_data"
    },
    {
     "data": {
      "image/png": "[encoded data removed]",
      "text/plain": [
       "<Figure size 640x480 with 1 Axes>"
      ]
     },
     "metadata": {},
     "output_type": "display_data"
    },
    {
     "data": {
      "image/png": "[encoded data removed]",
      "text/plain": [
       "<Figure size 640x480 with 1 Axes>"
      ]
     },
     "metadata": {},
     "output_type": "display_data"
    },
    {
     "data": {
      "image/png": "[encoded data removed]",
      "text/plain": [
       "<Figure size 640x480 with 1 Axes>"
      ]
     },
     "metadata": {},
     "output_type": "display_data"
    },
    {
     "data": {
      "image/png": "[encoded data removed]",
      "text/plain": [
       "<Figure size 640x480 with 1 Axes>"
      ]
     },
     "metadata": {},
     "output_type": "display_data"
    },
    {
     "data": {
      "image/png": "[encoded data removed]",
      "text/plain": [
       "<Figure size 640x480 with 1 Axes>"
      ]
     },
     "metadata": {},
     "output_type": "display_data"
    },
    {
     "data": {
      "image/png": "[encoded data removed]",
      "text/plain": [
       "<Figure size 640x480 with 1 Axes>"
      ]
     },
     "metadata": {},
     "output_type": "display_data"
    }
   ],
   "source": [
    "from tensorflow.keras.preprocessing.image import ImageDataGenerator\n",
    "import matplotlib.pyplot as plt\n",
    "import numpy as np\n",
    "from PIL import Image\n",
    "\n",
    "# Función para cargar una imagen\n",
    "def load_image(image_path, target_size=(64, 64)):\n",
    "    try:\n",
    "        # Carga la imagen utilizando PIL (Pillow)\n",
    "        img = Image.open(image_path)\n",
    "        \n",
    "        # Redimensiona la imagen al tamaño objetivo (opcional)\n",
    "        img = img.resize(target_size)\n",
    "        \n",
    "        # Convierte la imagen a un arreglo NumPy y normaliza los valores de píxeles\n",
    "        img = np.array(img) / 255.0\n",
    "        \n",
    "        return img\n",
    "    except Exception as e:\n",
    "        print(f\"Error al cargar la imagen: {str(e)}\")\n",
    "        return None\n",
    "\n",
    "# Ruta de la imagen\n",
    "image_path = 'test/CLASS_03/08-CAPTURE_20220421_083721_386.png'  # Reemplaza con la ruta de tu imagen\n",
    "\n",
    "# Cargar la imagen\n",
    "img = load_image(image_path)\n",
    "\n",
    "# Crear un generador de datos de imágenes con transformaciones de aumento de datos y normalización\n",
    "datagen = ImageDataGenerator(\n",
    "    rescale=1./255,        # Normalizar los valores de píxeles al rango [0, 1]\n",
    "    rotation_range=10,     # Reducir el rango de rotación aleatoria\n",
    "    width_shift_range=0.1, # Reducir el desplazamiento horizontal aleatorio\n",
    "    height_shift_range=0.1,# Reducir el desplazamiento vertical aleatorio\n",
    "    shear_range=0.1,       # Reducir el cizallamiento aleatorio\n",
    "    zoom_range=0.1,        # Reducir el zoom aleatorio\n",
    "    horizontal_flip=True,  # Mantener el volteo horizontal aleatorio\n",
    "    fill_mode='nearest'    # Estrategia de relleno\n",
    ")\n",
    "\n",
    "# Añadir dimensión extra para el lote\n",
    "img = img.reshape((1,) + img.shape)\n",
    "\n",
    "# Mostrar las imágenes aumentadas\n",
    "i = 0\n",
    "for batch in datagen.flow(img, batch_size=1):\n",
    "    plt.figure(i)\n",
    "    imgplot = plt.imshow(np.clip(np.squeeze(batch), 0, 1))  # Ajusta los valores de píxeles en el rango [0, 1]\n",
    "    i += 1\n",
    "    if i % 10 == 0:  # Mostrar 10 imágenes procesadas\n",
    "        break\n",
    "\n",
    "plt.show()"
   ]
  },
  {
   "cell_type": "code",
   "execution_count": 124,
   "id": "e94e6466",
   "metadata": {},
   "outputs": [
    {
     "data": {
      "image/png": "[encoded data removed]",
      "text/plain": [
       "<Figure size 640x480 with 1 Axes>"
      ]
     },
     "metadata": {},
     "output_type": "display_data"
    },
    {
     "data": {
      "image/png": "[encoded data removed]",
      "text/plain": [
       "<Figure size 640x480 with 1 Axes>"
      ]
     },
     "metadata": {},
     "output_type": "display_data"
    },
    {
     "data": {
      "image/png": "[encoded data removed]",
      "text/plain": [
       "<Figure size 640x480 with 1 Axes>"
      ]
     },
     "metadata": {},
     "output_type": "display_data"
    },
    {
     "data": {
      "image/png": "[encoded data removed]",
      "text/plain": [
       "<Figure size 640x480 with 1 Axes>"
      ]
     },
     "metadata": {},
     "output_type": "display_data"
    }
   ],
   "source": [
    "from tensorflow.keras.preprocessing.image import ImageDataGenerator\n",
    "import matplotlib.pyplot as plt\n",
    "import numpy as np\n",
    "from PIL import Image\n",
    "\n",
    "# Función para cargar una imagen\n",
    "def load_image(image_path, target_size=(384, 216)):\n",
    "    try:\n",
    "        # Carga la imagen utilizando PIL (Pillow)\n",
    "        img = Image.open(image_path)\n",
    "        \n",
    "        # Redimensiona la imagen al tamaño objetivo (opcional)\n",
    "        img = img.resize(target_size)\n",
    "        \n",
    "        # Convierte la imagen a un arreglo NumPy y normaliza los valores de píxeles\n",
    "        img = np.array(img) / 255.0\n",
    "        \n",
    "        return img\n",
    "    except Exception as e:\n",
    "        print(f\"Error al cargar la imagen: {str(e)}\")\n",
    "        return None\n",
    "\n",
    "# Ruta de la imagen\n",
    "image_path = 'test/CLASS_04/09-CAPTURE_20220427_091425_500.png'  # Reemplaza con la ruta de tu imagen\n",
    "\n",
    "# Cargar la imagen\n",
    "img = load_image(image_path)\n",
    "\n",
    "# Crear un generador de datos de imágenes con transformaciones de aumento de datos y normalización\n",
    "datagen = ImageDataGenerator(\n",
    "    rescale=1./255,        # Normalizar los valores de píxeles al rango [0, 1]\n",
    "    rotation_range=10,     # Reducir el rango de rotación aleatoria\n",
    "    width_shift_range=0.1, # Reducir el desplazamiento horizontal aleatorio\n",
    "    height_shift_range=0.1,# Reducir el desplazamiento vertical aleatorio\n",
    "    shear_range=0.1,       # Reducir el cizallamiento aleatorio\n",
    "    zoom_range=0.1,        # Reducir el zoom aleatorio\n",
    "    horizontal_flip=True,  # Mantener el volteo horizontal aleatorio\n",
    "    fill_mode='nearest'    # Estrategia de relleno\n",
    ")\n",
    "\n",
    "# Añadir dimensión extra para el lote\n",
    "img = img.reshape((1,) + img.shape)\n",
    "\n",
    "# Mostrar las imágenes aumentadas\n",
    "i = 0\n",
    "for batch in datagen.flow(img, batch_size=1):\n",
    "    plt.figure(i)\n",
    "    imgplot = plt.imshow(np.clip(np.squeeze(batch), 0, 1))  # Ajusta los valores de píxeles en el rango [0, 1]\n",
    "    i += 1\n",
    "    if i % 4 == 0:  # Mostrar 4 imágenes procesadas\n",
    "        break\n",
    "\n",
    "plt.show()"
   ]
  },
  {
   "cell_type": "code",
   "execution_count": null,
   "id": "585ee10f",
   "metadata": {},
   "outputs": [],
   "source": []
  }
 ],
 "metadata": {
  "kernelspec": {
   "display_name": "Python 3 (ipykernel)",
   "language": "python",
   "name": "python3"
  },
  "language_info": {
   "codemirror_mode": {
    "name": "ipython",
    "version": 3
   },
   "file_extension": ".py",
   "mimetype": "text/x-python",
   "name": "python",
   "nbconvert_exporter": "python",
   "pygments_lexer": "ipython3",
   "version": "3.11.4"
  }
 },
 "nbformat": 4,
 "nbformat_minor": 5
}
